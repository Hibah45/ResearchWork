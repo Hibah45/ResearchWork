{
  "nbformat": 4,
  "nbformat_minor": 0,
  "metadata": {
    "colab": {
      "provenance": [],
      "include_colab_link": true
    },
    "kernelspec": {
      "name": "python3",
      "display_name": "Python 3"
    },
    "language_info": {
      "name": "python"
    }
  },
  "cells": [
    {
      "cell_type": "markdown",
      "metadata": {
        "id": "view-in-github",
        "colab_type": "text"
      },
      "source": [
        "<a href=\"https://colab.research.google.com/github/Hibah45/ResearchWork/blob/main/transaction_code.ipynb\" target=\"_parent\"><img src=\"https://colab.research.google.com/assets/colab-badge.svg\" alt=\"Open In Colab\"/></a>"
      ]
    },
    {
      "cell_type": "markdown",
      "source": [
        "IMPORT LIBRARIES AND CSV FOR TESTING"
      ],
      "metadata": {
        "id": "cu2e--L11mkx"
      }
    },
    {
      "cell_type": "code",
      "execution_count": 4,
      "metadata": {
        "colab": {
          "base_uri": "https://localhost:8080/"
        },
        "id": "ImOMTt3ky_xv",
        "outputId": "729890b2-a571-43f6-b117-5b2ba3b0e8e0"
      },
      "outputs": [
        {
          "output_type": "stream",
          "name": "stdout",
          "text": [
            "   Customer Id       Date  Amount\n",
            "0         C231 2022-11-01  9232.0\n",
            "1         C231 2022-11-02  6061.0\n",
            "2         C231 2022-11-03  5108.0\n",
            "3         C231 2022-11-04  9086.0\n",
            "4         C231 2022-11-05 -8534.0\n",
            "..         ...        ...     ...\n",
            "87        C409 2022-11-26  2285.0\n",
            "88        C409 2022-11-27 -1209.0\n",
            "89        C409 2022-11-28 -5432.0\n",
            "90        C409 2022-11-29  6520.0\n",
            "91        C409 2022-11-30 -4984.0\n",
            "\n",
            "[92 rows x 3 columns]\n"
          ]
        }
      ],
      "source": [
        "import pandas as pd\n",
        "import numpy as np\n",
        "import math\n",
        "\n",
        "# reading the CSV file from my git repo\n",
        "fileURL = \"https://github.com/Hibah45/AppliedML/blob/main/test.xlsx?raw=True\" #change csv file for testing\n",
        "\n",
        "data = pd.read_excel(fileURL) \n",
        "# displaying the contents of the CSV file\n",
        "print(data)"
      ]
    },
    {
      "cell_type": "code",
      "source": [
        "data.dropna(how='all', inplace = True) #Dropping empty rows from csv file"
      ],
      "metadata": {
        "id": "kCnqt6jCtVsF"
      },
      "execution_count": 60,
      "outputs": []
    },
    {
      "cell_type": "code",
      "source": [
        "dicts = data.to_dict(orient = 'split') #this creates dictionary from dataframe\n",
        "\n",
        "dicts\n",
        "\n",
        "for k, v in dicts.items():\n",
        "  #print(str(k)+\":\"+str(v))\n",
        "  if k == 'data':\n",
        "    for lists in v:\n",
        "      if(lists[0]!=np.nan):\n",
        "        print(lists)"
      ],
      "metadata": {
        "colab": {
          "base_uri": "https://localhost:8080/"
        },
        "id": "I3rH60GrfhWh",
        "outputId": "80db3d09-f1bb-4269-fd52-cb4070eb7605"
      },
      "execution_count": 63,
      "outputs": [
        {
          "output_type": "stream",
          "name": "stdout",
          "text": [
            "['C231', Timestamp('2022-11-01 00:00:00'), 9232.0]\n",
            "['C231', Timestamp('2022-11-02 00:00:00'), 6061.0]\n",
            "['C231', Timestamp('2022-11-03 00:00:00'), 5108.0]\n",
            "['C231', Timestamp('2022-11-04 00:00:00'), 9086.0]\n",
            "['C231', Timestamp('2022-11-05 00:00:00'), -8534.0]\n",
            "['C231', Timestamp('2022-11-06 00:00:00'), -2961.0]\n",
            "['C231', Timestamp('2022-11-07 00:00:00'), 2661.0]\n",
            "['C231', Timestamp('2022-11-08 00:00:00'), -7651.0]\n",
            "['C231', Timestamp('2022-11-09 00:00:00'), -6398.0]\n",
            "['C231', Timestamp('2022-11-10 00:00:00'), -5988.0]\n",
            "['C231', Timestamp('2022-11-11 00:00:00'), 7025.0]\n",
            "['C231', Timestamp('2022-11-12 00:00:00'), 6429.0]\n",
            "['C231', Timestamp('2022-11-13 00:00:00'), -6819.0]\n",
            "['C231', Timestamp('2022-11-14 00:00:00'), 729.0]\n",
            "['C231', Timestamp('2022-11-15 00:00:00'), 3797.0]\n",
            "['C231', Timestamp('2022-11-16 00:00:00'), 3030.0]\n",
            "['C231', Timestamp('2022-11-17 00:00:00'), -7192.0]\n",
            "['C231', Timestamp('2022-11-18 00:00:00'), -5553.0]\n",
            "['C231', Timestamp('2022-11-19 00:00:00'), 2875.0]\n",
            "['C231', Timestamp('2022-11-20 00:00:00'), 6599.0]\n",
            "['C231', Timestamp('2022-11-21 00:00:00'), -690.0]\n",
            "['C231', Timestamp('2022-11-22 00:00:00'), -3730.0]\n",
            "['C231', Timestamp('2022-11-23 00:00:00'), 6818.0]\n",
            "['C231', Timestamp('2022-11-24 00:00:00'), 3261.0]\n",
            "['C231', Timestamp('2022-11-25 00:00:00'), 5339.0]\n",
            "['C231', Timestamp('2022-11-26 00:00:00'), 9373.0]\n",
            "['C231', Timestamp('2022-11-27 00:00:00'), 9937.0]\n",
            "['C231', Timestamp('2022-11-28 00:00:00'), -6007.0]\n",
            "['C231', Timestamp('2022-11-29 00:00:00'), 7607.0]\n",
            "['C231', Timestamp('2022-11-30 00:00:00'), -3444.0]\n",
            "['C865', Timestamp('2022-11-01 00:00:00'), -2441.0]\n",
            "['C865', Timestamp('2022-11-02 00:00:00'), 9134.0]\n",
            "['C865', Timestamp('2022-11-03 00:00:00'), 7793.0]\n",
            "['C865', Timestamp('2022-11-04 00:00:00'), 7498.0]\n",
            "['C865', Timestamp('2022-11-05 00:00:00'), -7947.0]\n",
            "['C865', Timestamp('2022-11-06 00:00:00'), -1927.0]\n",
            "['C865', Timestamp('2022-11-07 00:00:00'), 9722.0]\n",
            "['C865', Timestamp('2022-11-08 00:00:00'), 5683.0]\n",
            "['C865', Timestamp('2022-11-09 00:00:00'), -4906.0]\n",
            "['C865', Timestamp('2022-11-10 00:00:00'), -4727.0]\n",
            "['C865', Timestamp('2022-11-11 00:00:00'), 9529.0]\n",
            "['C865', Timestamp('2022-11-12 00:00:00'), 5056.0]\n",
            "['C865', Timestamp('2022-11-13 00:00:00'), 4038.0]\n",
            "['C865', Timestamp('2022-11-14 00:00:00'), 1854.0]\n",
            "['C865', Timestamp('2022-11-15 00:00:00'), -5699.0]\n",
            "['C865', Timestamp('2022-11-16 00:00:00'), 7353.0]\n",
            "['C865', Timestamp('2022-11-17 00:00:00'), -5561.0]\n",
            "['C865', Timestamp('2022-11-18 00:00:00'), -9503.0]\n",
            "['C865', Timestamp('2022-11-19 00:00:00'), -917.0]\n",
            "['C865', Timestamp('2022-11-20 00:00:00'), -7573.0]\n",
            "['C865', Timestamp('2022-11-21 00:00:00'), 349.0]\n",
            "['C865', Timestamp('2022-11-22 00:00:00'), 707.0]\n",
            "['C865', Timestamp('2022-11-23 00:00:00'), 2178.0]\n",
            "['C865', Timestamp('2022-11-24 00:00:00'), -4048.0]\n",
            "['C865', Timestamp('2022-11-25 00:00:00'), 9486.0]\n",
            "['C865', Timestamp('2022-11-26 00:00:00'), 1349.0]\n",
            "['C865', Timestamp('2022-11-27 00:00:00'), 4255.0]\n",
            "['C865', Timestamp('2022-11-28 00:00:00'), -8417.0]\n",
            "['C865', Timestamp('2022-11-29 00:00:00'), 1208.0]\n",
            "['C865', Timestamp('2022-11-30 00:00:00'), -2189.0]\n",
            "['C409', Timestamp('2022-11-01 00:00:00'), -1878.0]\n",
            "['C409', Timestamp('2022-11-02 00:00:00'), -2096.0]\n",
            "['C409', Timestamp('2022-11-03 00:00:00'), -8120.0]\n",
            "['C409', Timestamp('2022-11-04 00:00:00'), -7686.0]\n",
            "['C409', Timestamp('2022-11-05 00:00:00'), -7141.0]\n",
            "['C409', Timestamp('2022-11-06 00:00:00'), -5514.0]\n",
            "['C409', Timestamp('2022-11-07 00:00:00'), -5593.0]\n",
            "['C409', Timestamp('2022-11-08 00:00:00'), 7593.0]\n",
            "['C409', Timestamp('2022-11-09 00:00:00'), 8560.0]\n",
            "['C409', Timestamp('2022-11-10 00:00:00'), -4134.0]\n",
            "['C409', Timestamp('2022-11-11 00:00:00'), 6530.0]\n",
            "['C409', Timestamp('2022-11-12 00:00:00'), -3447.0]\n",
            "['C409', Timestamp('2022-11-13 00:00:00'), 6057.0]\n",
            "['C409', Timestamp('2022-11-14 00:00:00'), -2523.0]\n",
            "['C409', Timestamp('2022-11-15 00:00:00'), -4040.0]\n",
            "['C409', Timestamp('2022-11-16 00:00:00'), 3474.0]\n",
            "['C409', Timestamp('2022-11-17 00:00:00'), -227.0]\n",
            "['C409', Timestamp('2022-11-18 00:00:00'), -6661.0]\n",
            "['C409', Timestamp('2022-11-19 00:00:00'), 9474.0]\n",
            "['C409', Timestamp('2022-11-20 00:00:00'), -4011.0]\n",
            "['C409', Timestamp('2022-11-21 00:00:00'), 1260.0]\n",
            "['C409', Timestamp('2022-11-22 00:00:00'), -8247.0]\n",
            "['C409', Timestamp('2022-11-23 00:00:00'), -2151.0]\n",
            "['C409', Timestamp('2022-11-24 00:00:00'), -8755.0]\n",
            "['C409', Timestamp('2022-11-25 00:00:00'), -4022.0]\n",
            "['C409', Timestamp('2022-11-26 00:00:00'), 2285.0]\n",
            "['C409', Timestamp('2022-11-27 00:00:00'), -1209.0]\n",
            "['C409', Timestamp('2022-11-28 00:00:00'), -5432.0]\n",
            "['C409', Timestamp('2022-11-29 00:00:00'), 6520.0]\n",
            "['C409', Timestamp('2022-11-30 00:00:00'), -4984.0]\n"
          ]
        }
      ]
    },
    {
      "cell_type": "markdown",
      "source": [
        "Method to get the balance of each day"
      ],
      "metadata": {
        "id": "gyIxlGf75w92"
      }
    },
    {
      "cell_type": "code",
      "source": [
        "stack =[]\n",
        "lists=[]\n",
        "maxbal=-1\n",
        "minbal=10000000000\n",
        "balance= 0\n",
        "day = 1\n",
        "for k, v in dicts.items():\n",
        "  #print(str(k)+\":\"+str(v))\n",
        "  if k == 'data':\n",
        "    print(str(k)+\":\"+str(v)) #Values from the csv file\n",
        "    print(\"***************OUTPUT************************\")\n",
        "    for lists in v:\n",
        "      if lists[0] not in stack:\n",
        "        if len(stack)!=0:\n",
        "          print(\"*******************MONTH END BALANCE RESULT*******************\")\n",
        "          print(\"CUSTOMER ID:\"+ stack[-1] + \"\\nDATE:\"+ str(lists[1].strftime(\"%m/%Y\"))+ \"\\nMAXIMUM BALANCE:\"+ str(maxbal)+\"\\nMINIMUM BALANCE: \"+str(minbal)+ \"\\nENDING BALANCE:\"+str(balance))\n",
        "        stack.append(lists[0])\n",
        "        balance= lists[2]\n",
        "        maxbal = balance\n",
        "        minbal = balance\n",
        "        day = 1\n",
        "        print(\"Total balance after day:\"+ str(day)+ \"=\" +str(balance))\n",
        "\n",
        "      else:\n",
        "        balance= balance+lists[2]\n",
        "        print(\"Total credit/debit balance after day:\"+ str(day+1)+ \"=\" +str(balance))\n",
        "        day= day+1\n",
        "        if maxbal<balance:\n",
        "          maxbal= balance\n",
        "        if minbal>balance:\n",
        "          minbal = balance\n",
        "    print(\"*******************MONTH END BALANCE RESULT*******************\")\n",
        "    print(\"CUSTOMER ID:\"+ stack[-1] + \"\\nDATE:\"+ str(lists[1].strftime(\"%m/%Y\"))+ \"\\nMAXIMUM BALANCE:\"+ str(maxbal)+\"\\nMINIMUM BALANCE: \"+str(minbal)+ \"\\nENDING BALANCE:\"+str(balance))\n"
      ],
      "metadata": {
        "id": "HPYu0Qtuv9im",
        "colab": {
          "base_uri": "https://localhost:8080/"
        },
        "outputId": "75de8a7a-ddbc-40cd-e8d8-59ccaf86130b"
      },
      "execution_count": 108,
      "outputs": [
        {
          "output_type": "stream",
          "name": "stdout",
          "text": [
            "data:[['C231', Timestamp('2022-11-01 00:00:00'), 9232.0], ['C231', Timestamp('2022-11-02 00:00:00'), 6061.0], ['C231', Timestamp('2022-11-03 00:00:00'), 5108.0], ['C231', Timestamp('2022-11-04 00:00:00'), 9086.0], ['C231', Timestamp('2022-11-05 00:00:00'), -8534.0], ['C231', Timestamp('2022-11-06 00:00:00'), -2961.0], ['C231', Timestamp('2022-11-07 00:00:00'), 2661.0], ['C231', Timestamp('2022-11-08 00:00:00'), -7651.0], ['C231', Timestamp('2022-11-09 00:00:00'), -6398.0], ['C231', Timestamp('2022-11-10 00:00:00'), -5988.0], ['C231', Timestamp('2022-11-11 00:00:00'), 7025.0], ['C231', Timestamp('2022-11-12 00:00:00'), 6429.0], ['C231', Timestamp('2022-11-13 00:00:00'), -6819.0], ['C231', Timestamp('2022-11-14 00:00:00'), 729.0], ['C231', Timestamp('2022-11-15 00:00:00'), 3797.0], ['C231', Timestamp('2022-11-16 00:00:00'), 3030.0], ['C231', Timestamp('2022-11-17 00:00:00'), -7192.0], ['C231', Timestamp('2022-11-18 00:00:00'), -5553.0], ['C231', Timestamp('2022-11-19 00:00:00'), 2875.0], ['C231', Timestamp('2022-11-20 00:00:00'), 6599.0], ['C231', Timestamp('2022-11-21 00:00:00'), -690.0], ['C231', Timestamp('2022-11-22 00:00:00'), -3730.0], ['C231', Timestamp('2022-11-23 00:00:00'), 6818.0], ['C231', Timestamp('2022-11-24 00:00:00'), 3261.0], ['C231', Timestamp('2022-11-25 00:00:00'), 5339.0], ['C231', Timestamp('2022-11-26 00:00:00'), 9373.0], ['C231', Timestamp('2022-11-27 00:00:00'), 9937.0], ['C231', Timestamp('2022-11-28 00:00:00'), -6007.0], ['C231', Timestamp('2022-11-29 00:00:00'), 7607.0], ['C231', Timestamp('2022-11-30 00:00:00'), -3444.0], ['C865', Timestamp('2022-11-01 00:00:00'), -2441.0], ['C865', Timestamp('2022-11-02 00:00:00'), 9134.0], ['C865', Timestamp('2022-11-03 00:00:00'), 7793.0], ['C865', Timestamp('2022-11-04 00:00:00'), 7498.0], ['C865', Timestamp('2022-11-05 00:00:00'), -7947.0], ['C865', Timestamp('2022-11-06 00:00:00'), -1927.0], ['C865', Timestamp('2022-11-07 00:00:00'), 9722.0], ['C865', Timestamp('2022-11-08 00:00:00'), 5683.0], ['C865', Timestamp('2022-11-09 00:00:00'), -4906.0], ['C865', Timestamp('2022-11-10 00:00:00'), -4727.0], ['C865', Timestamp('2022-11-11 00:00:00'), 9529.0], ['C865', Timestamp('2022-11-12 00:00:00'), 5056.0], ['C865', Timestamp('2022-11-13 00:00:00'), 4038.0], ['C865', Timestamp('2022-11-14 00:00:00'), 1854.0], ['C865', Timestamp('2022-11-15 00:00:00'), -5699.0], ['C865', Timestamp('2022-11-16 00:00:00'), 7353.0], ['C865', Timestamp('2022-11-17 00:00:00'), -5561.0], ['C865', Timestamp('2022-11-18 00:00:00'), -9503.0], ['C865', Timestamp('2022-11-19 00:00:00'), -917.0], ['C865', Timestamp('2022-11-20 00:00:00'), -7573.0], ['C865', Timestamp('2022-11-21 00:00:00'), 349.0], ['C865', Timestamp('2022-11-22 00:00:00'), 707.0], ['C865', Timestamp('2022-11-23 00:00:00'), 2178.0], ['C865', Timestamp('2022-11-24 00:00:00'), -4048.0], ['C865', Timestamp('2022-11-25 00:00:00'), 9486.0], ['C865', Timestamp('2022-11-26 00:00:00'), 1349.0], ['C865', Timestamp('2022-11-27 00:00:00'), 4255.0], ['C865', Timestamp('2022-11-28 00:00:00'), -8417.0], ['C865', Timestamp('2022-11-29 00:00:00'), 1208.0], ['C865', Timestamp('2022-11-30 00:00:00'), -2189.0], ['C409', Timestamp('2022-11-01 00:00:00'), -1878.0], ['C409', Timestamp('2022-11-02 00:00:00'), -2096.0], ['C409', Timestamp('2022-11-03 00:00:00'), -8120.0], ['C409', Timestamp('2022-11-04 00:00:00'), -7686.0], ['C409', Timestamp('2022-11-05 00:00:00'), -7141.0], ['C409', Timestamp('2022-11-06 00:00:00'), -5514.0], ['C409', Timestamp('2022-11-07 00:00:00'), -5593.0], ['C409', Timestamp('2022-11-08 00:00:00'), 7593.0], ['C409', Timestamp('2022-11-09 00:00:00'), 8560.0], ['C409', Timestamp('2022-11-10 00:00:00'), -4134.0], ['C409', Timestamp('2022-11-11 00:00:00'), 6530.0], ['C409', Timestamp('2022-11-12 00:00:00'), -3447.0], ['C409', Timestamp('2022-11-13 00:00:00'), 6057.0], ['C409', Timestamp('2022-11-14 00:00:00'), -2523.0], ['C409', Timestamp('2022-11-15 00:00:00'), -4040.0], ['C409', Timestamp('2022-11-16 00:00:00'), 3474.0], ['C409', Timestamp('2022-11-17 00:00:00'), -227.0], ['C409', Timestamp('2022-11-18 00:00:00'), -6661.0], ['C409', Timestamp('2022-11-19 00:00:00'), 9474.0], ['C409', Timestamp('2022-11-20 00:00:00'), -4011.0], ['C409', Timestamp('2022-11-21 00:00:00'), 1260.0], ['C409', Timestamp('2022-11-22 00:00:00'), -8247.0], ['C409', Timestamp('2022-11-23 00:00:00'), -2151.0], ['C409', Timestamp('2022-11-24 00:00:00'), -8755.0], ['C409', Timestamp('2022-11-25 00:00:00'), -4022.0], ['C409', Timestamp('2022-11-26 00:00:00'), 2285.0], ['C409', Timestamp('2022-11-27 00:00:00'), -1209.0], ['C409', Timestamp('2022-11-28 00:00:00'), -5432.0], ['C409', Timestamp('2022-11-29 00:00:00'), 6520.0], ['C409', Timestamp('2022-11-30 00:00:00'), -4984.0]]\n",
            "***************OUTPUT************************\n",
            "Total balance after day:1=9232.0\n",
            "Total credit/debit balance after day:2=15293.0\n",
            "Total credit/debit balance after day:3=20401.0\n",
            "Total credit/debit balance after day:4=29487.0\n",
            "Total credit/debit balance after day:5=20953.0\n",
            "Total credit/debit balance after day:6=17992.0\n",
            "Total credit/debit balance after day:7=20653.0\n",
            "Total credit/debit balance after day:8=13002.0\n",
            "Total credit/debit balance after day:9=6604.0\n",
            "Total credit/debit balance after day:10=616.0\n",
            "Total credit/debit balance after day:11=7641.0\n",
            "Total credit/debit balance after day:12=14070.0\n",
            "Total credit/debit balance after day:13=7251.0\n",
            "Total credit/debit balance after day:14=7980.0\n",
            "Total credit/debit balance after day:15=11777.0\n",
            "Total credit/debit balance after day:16=14807.0\n",
            "Total credit/debit balance after day:17=7615.0\n",
            "Total credit/debit balance after day:18=2062.0\n",
            "Total credit/debit balance after day:19=4937.0\n",
            "Total credit/debit balance after day:20=11536.0\n",
            "Total credit/debit balance after day:21=10846.0\n",
            "Total credit/debit balance after day:22=7116.0\n",
            "Total credit/debit balance after day:23=13934.0\n",
            "Total credit/debit balance after day:24=17195.0\n",
            "Total credit/debit balance after day:25=22534.0\n",
            "Total credit/debit balance after day:26=31907.0\n",
            "Total credit/debit balance after day:27=41844.0\n",
            "Total credit/debit balance after day:28=35837.0\n",
            "Total credit/debit balance after day:29=43444.0\n",
            "Total credit/debit balance after day:30=40000.0\n",
            "*******************MONTH END BALANCE RESULT*******************\n",
            "CUSTOMER ID:C231\n",
            "DATE:11/2022\n",
            "MAXIMUM BALANCE:43444.0\n",
            "MINIMUM BALANCE: 616.0\n",
            "ENDING BALANCE:40000.0\n",
            "Total balance after day:1=-2441.0\n",
            "Total credit/debit balance after day:2=6693.0\n",
            "Total credit/debit balance after day:3=14486.0\n",
            "Total credit/debit balance after day:4=21984.0\n",
            "Total credit/debit balance after day:5=14037.0\n",
            "Total credit/debit balance after day:6=12110.0\n",
            "Total credit/debit balance after day:7=21832.0\n",
            "Total credit/debit balance after day:8=27515.0\n",
            "Total credit/debit balance after day:9=22609.0\n",
            "Total credit/debit balance after day:10=17882.0\n",
            "Total credit/debit balance after day:11=27411.0\n",
            "Total credit/debit balance after day:12=32467.0\n",
            "Total credit/debit balance after day:13=36505.0\n",
            "Total credit/debit balance after day:14=38359.0\n",
            "Total credit/debit balance after day:15=32660.0\n",
            "Total credit/debit balance after day:16=40013.0\n",
            "Total credit/debit balance after day:17=34452.0\n",
            "Total credit/debit balance after day:18=24949.0\n",
            "Total credit/debit balance after day:19=24032.0\n",
            "Total credit/debit balance after day:20=16459.0\n",
            "Total credit/debit balance after day:21=16808.0\n",
            "Total credit/debit balance after day:22=17515.0\n",
            "Total credit/debit balance after day:23=19693.0\n",
            "Total credit/debit balance after day:24=15645.0\n",
            "Total credit/debit balance after day:25=25131.0\n",
            "Total credit/debit balance after day:26=26480.0\n",
            "Total credit/debit balance after day:27=30735.0\n",
            "Total credit/debit balance after day:28=22318.0\n",
            "Total credit/debit balance after day:29=23526.0\n",
            "Total credit/debit balance after day:30=21337.0\n",
            "*******************MONTH END BALANCE RESULT*******************\n",
            "CUSTOMER ID:C865\n",
            "DATE:11/2022\n",
            "MAXIMUM BALANCE:40013.0\n",
            "MINIMUM BALANCE: -2441.0\n",
            "ENDING BALANCE:21337.0\n",
            "Total balance after day:1=-1878.0\n",
            "Total credit/debit balance after day:2=-3974.0\n",
            "Total credit/debit balance after day:3=-12094.0\n",
            "Total credit/debit balance after day:4=-19780.0\n",
            "Total credit/debit balance after day:5=-26921.0\n",
            "Total credit/debit balance after day:6=-32435.0\n",
            "Total credit/debit balance after day:7=-38028.0\n",
            "Total credit/debit balance after day:8=-30435.0\n",
            "Total credit/debit balance after day:9=-21875.0\n",
            "Total credit/debit balance after day:10=-26009.0\n",
            "Total credit/debit balance after day:11=-19479.0\n",
            "Total credit/debit balance after day:12=-22926.0\n",
            "Total credit/debit balance after day:13=-16869.0\n",
            "Total credit/debit balance after day:14=-19392.0\n",
            "Total credit/debit balance after day:15=-23432.0\n",
            "Total credit/debit balance after day:16=-19958.0\n",
            "Total credit/debit balance after day:17=-20185.0\n",
            "Total credit/debit balance after day:18=-26846.0\n",
            "Total credit/debit balance after day:19=-17372.0\n",
            "Total credit/debit balance after day:20=-21383.0\n",
            "Total credit/debit balance after day:21=-20123.0\n",
            "Total credit/debit balance after day:22=-28370.0\n",
            "Total credit/debit balance after day:23=-30521.0\n",
            "Total credit/debit balance after day:24=-39276.0\n",
            "Total credit/debit balance after day:25=-43298.0\n",
            "Total credit/debit balance after day:26=-41013.0\n",
            "Total credit/debit balance after day:27=-42222.0\n",
            "Total credit/debit balance after day:28=-47654.0\n",
            "Total credit/debit balance after day:29=-41134.0\n",
            "Total credit/debit balance after day:30=-46118.0\n",
            "*******************MONTH END BALANCE RESULT*******************\n",
            "CUSTOMER ID:C409\n",
            "DATE:11/2022\n",
            "MAXIMUM BALANCE:-1878.0\n",
            "MINIMUM BALANCE: -47654.0\n",
            "ENDING BALANCE:-46118.0\n"
          ]
        }
      ]
    },
    {
      "cell_type": "markdown",
      "source": [
        "#THANK YOU FOR THE TIME AND CONSIDERATION. "
      ],
      "metadata": {
        "id": "s167dAQw6Aot"
      }
    },
    {
      "cell_type": "markdown",
      "source": [
        "LOOKING FORWARD TO MEET AND TALK TO THE INTERVIEW TEAMS"
      ],
      "metadata": {
        "id": "LjSmP7Dz6Mtd"
      }
    }
  ]
}