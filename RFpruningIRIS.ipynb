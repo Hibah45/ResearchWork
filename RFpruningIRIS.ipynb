{
  "cells": [
    {
      "cell_type": "markdown",
      "metadata": {
        "id": "view-in-github",
        "colab_type": "text"
      },
      "source": [
        "<a href=\"https://colab.research.google.com/github/Hibah45/ResearchWork/blob/main/RFpruningIRIS.ipynb\" target=\"_parent\"><img src=\"https://colab.research.google.com/assets/colab-badge.svg\" alt=\"Open In Colab\"/></a>"
      ]
    },
    {
      "cell_type": "code",
      "execution_count": 1,
      "metadata": {
        "colab": {
          "base_uri": "https://localhost:8080/"
        },
        "id": "GZwIlEBn4E3o",
        "outputId": "c82e5c38-a691-4c38-ca24-309a1bb13b78"
      },
      "outputs": [
        {
          "output_type": "stream",
          "name": "stdout",
          "text": [
            "(150, 4)\n",
            "['sepal length (cm)', 'sepal width (cm)', 'petal length (cm)', 'petal width (cm)']\n",
            "[0 0 0 0 0 0 0 0 0 0 0 0 0 0 0 0 0 0 0 0 0 0 0 0 0 0 0 0 0 0 0 0 0 0 0 0 0\n",
            " 0 0 0 0 0 0 0 0 0 0 0 0 0 1 1 1 1 1 1 1 1 1 1 1 1 1 1 1 1 1 1 1 1 1 1 1 1\n",
            " 1 1 1 1 1 1 1 1 1 1 1 1 1 1 1 1 1 1 1 1 1 1 1 1 1 1 2 2 2 2 2 2 2 2 2 2 2\n",
            " 2 2 2 2 2 2 2 2 2 2 2 2 2 2 2 2 2 2 2 2 2 2 2 2 2 2 2 2 2 2 2 2 2 2 2 2 2\n",
            " 2 2]\n",
            "['setosa' 'versicolor' 'virginica']\n"
          ]
        }
      ],
      "source": [
        "import numpy as np\n",
        "import pandas as pd\n",
        "import matplotlib.pyplot as plt\n",
        "from sklearn import datasets\n",
        "from sklearn.datasets import load_iris\n",
        "from sklearn.ensemble import RandomForestClassifier\n",
        "from sklearn.tree import DecisionTreeClassifier\n",
        "from sklearn.datasets import make_classification\n",
        "from sklearn import tree\n",
        "from sklearn.model_selection import train_test_split\n",
        "from sklearn.cluster import KMeans\n",
        "from sklearn.metrics import silhouette_score\n",
        "from sklearn.metrics import classification_report\n",
        "from sklearn.cluster import AgglomerativeClustering\n",
        "import scipy.cluster.hierarchy as shc\n",
        "from sklearn.cluster import DBSCAN\n",
        "from sklearn.cluster import SpectralClustering\n",
        "from sklearn.mixture import GaussianMixture\n",
        "from sklearn import cluster, datasets, mixture\n",
        "from sklearn import metrics\n",
        "from numpy import unique\n",
        "from numpy import where\n",
        "from matplotlib import pyplot\n",
        "from sklearn.model_selection import cross_val_score\n",
        "import matplotlib.pyplot as plt\n",
        "\n",
        "iris_data = load_iris()\n",
        "\n",
        "# print(iris_data)\n",
        "\n",
        "X = iris_data.data\n",
        "y = iris_data.target\n",
        "\n",
        "print(iris_data.data.shape)\n",
        "print(iris_data.feature_names)# 4 columns-'sepal length', 'sepal width', 'petal length', 'petal width'\n",
        "print(y)\n",
        "print(iris_data.target_names) # 0-setosa, 1-versicolor, 2-virginica"
      ]
    },
    {
      "cell_type": "code",
      "execution_count": 2,
      "metadata": {
        "colab": {
          "base_uri": "https://localhost:8080/",
          "height": 206
        },
        "id": "dSmc2uuw4tOW",
        "outputId": "61f92164-ce3c-4a1c-c0c8-3b05ceae7b4a"
      },
      "outputs": [
        {
          "output_type": "execute_result",
          "data": {
            "text/plain": [
              "   sepal length  sepal width  petal length  petal width  species\n",
              "0           5.1          3.5           1.4          0.2        0\n",
              "1           4.9          3.0           1.4          0.2        0\n",
              "2           4.7          3.2           1.3          0.2        0\n",
              "3           4.6          3.1           1.5          0.2        0\n",
              "4           5.0          3.6           1.4          0.2        0"
            ],
            "text/html": [
              "\n",
              "  <div id=\"df-63c8f9f4-864d-4692-a28f-65d58bdc9f11\">\n",
              "    <div class=\"colab-df-container\">\n",
              "      <div>\n",
              "<style scoped>\n",
              "    .dataframe tbody tr th:only-of-type {\n",
              "        vertical-align: middle;\n",
              "    }\n",
              "\n",
              "    .dataframe tbody tr th {\n",
              "        vertical-align: top;\n",
              "    }\n",
              "\n",
              "    .dataframe thead th {\n",
              "        text-align: right;\n",
              "    }\n",
              "</style>\n",
              "<table border=\"1\" class=\"dataframe\">\n",
              "  <thead>\n",
              "    <tr style=\"text-align: right;\">\n",
              "      <th></th>\n",
              "      <th>sepal length</th>\n",
              "      <th>sepal width</th>\n",
              "      <th>petal length</th>\n",
              "      <th>petal width</th>\n",
              "      <th>species</th>\n",
              "    </tr>\n",
              "  </thead>\n",
              "  <tbody>\n",
              "    <tr>\n",
              "      <th>0</th>\n",
              "      <td>5.1</td>\n",
              "      <td>3.5</td>\n",
              "      <td>1.4</td>\n",
              "      <td>0.2</td>\n",
              "      <td>0</td>\n",
              "    </tr>\n",
              "    <tr>\n",
              "      <th>1</th>\n",
              "      <td>4.9</td>\n",
              "      <td>3.0</td>\n",
              "      <td>1.4</td>\n",
              "      <td>0.2</td>\n",
              "      <td>0</td>\n",
              "    </tr>\n",
              "    <tr>\n",
              "      <th>2</th>\n",
              "      <td>4.7</td>\n",
              "      <td>3.2</td>\n",
              "      <td>1.3</td>\n",
              "      <td>0.2</td>\n",
              "      <td>0</td>\n",
              "    </tr>\n",
              "    <tr>\n",
              "      <th>3</th>\n",
              "      <td>4.6</td>\n",
              "      <td>3.1</td>\n",
              "      <td>1.5</td>\n",
              "      <td>0.2</td>\n",
              "      <td>0</td>\n",
              "    </tr>\n",
              "    <tr>\n",
              "      <th>4</th>\n",
              "      <td>5.0</td>\n",
              "      <td>3.6</td>\n",
              "      <td>1.4</td>\n",
              "      <td>0.2</td>\n",
              "      <td>0</td>\n",
              "    </tr>\n",
              "  </tbody>\n",
              "</table>\n",
              "</div>\n",
              "      <button class=\"colab-df-convert\" onclick=\"convertToInteractive('df-63c8f9f4-864d-4692-a28f-65d58bdc9f11')\"\n",
              "              title=\"Convert this dataframe to an interactive table.\"\n",
              "              style=\"display:none;\">\n",
              "        \n",
              "  <svg xmlns=\"http://www.w3.org/2000/svg\" height=\"24px\"viewBox=\"0 0 24 24\"\n",
              "       width=\"24px\">\n",
              "    <path d=\"M0 0h24v24H0V0z\" fill=\"none\"/>\n",
              "    <path d=\"M18.56 5.44l.94 2.06.94-2.06 2.06-.94-2.06-.94-.94-2.06-.94 2.06-2.06.94zm-11 1L8.5 8.5l.94-2.06 2.06-.94-2.06-.94L8.5 2.5l-.94 2.06-2.06.94zm10 10l.94 2.06.94-2.06 2.06-.94-2.06-.94-.94-2.06-.94 2.06-2.06.94z\"/><path d=\"M17.41 7.96l-1.37-1.37c-.4-.4-.92-.59-1.43-.59-.52 0-1.04.2-1.43.59L10.3 9.45l-7.72 7.72c-.78.78-.78 2.05 0 2.83L4 21.41c.39.39.9.59 1.41.59.51 0 1.02-.2 1.41-.59l7.78-7.78 2.81-2.81c.8-.78.8-2.07 0-2.86zM5.41 20L4 18.59l7.72-7.72 1.47 1.35L5.41 20z\"/>\n",
              "  </svg>\n",
              "      </button>\n",
              "      \n",
              "  <style>\n",
              "    .colab-df-container {\n",
              "      display:flex;\n",
              "      flex-wrap:wrap;\n",
              "      gap: 12px;\n",
              "    }\n",
              "\n",
              "    .colab-df-convert {\n",
              "      background-color: #E8F0FE;\n",
              "      border: none;\n",
              "      border-radius: 50%;\n",
              "      cursor: pointer;\n",
              "      display: none;\n",
              "      fill: #1967D2;\n",
              "      height: 32px;\n",
              "      padding: 0 0 0 0;\n",
              "      width: 32px;\n",
              "    }\n",
              "\n",
              "    .colab-df-convert:hover {\n",
              "      background-color: #E2EBFA;\n",
              "      box-shadow: 0px 1px 2px rgba(60, 64, 67, 0.3), 0px 1px 3px 1px rgba(60, 64, 67, 0.15);\n",
              "      fill: #174EA6;\n",
              "    }\n",
              "\n",
              "    [theme=dark] .colab-df-convert {\n",
              "      background-color: #3B4455;\n",
              "      fill: #D2E3FC;\n",
              "    }\n",
              "\n",
              "    [theme=dark] .colab-df-convert:hover {\n",
              "      background-color: #434B5C;\n",
              "      box-shadow: 0px 1px 3px 1px rgba(0, 0, 0, 0.15);\n",
              "      filter: drop-shadow(0px 1px 2px rgba(0, 0, 0, 0.3));\n",
              "      fill: #FFFFFF;\n",
              "    }\n",
              "  </style>\n",
              "\n",
              "      <script>\n",
              "        const buttonEl =\n",
              "          document.querySelector('#df-63c8f9f4-864d-4692-a28f-65d58bdc9f11 button.colab-df-convert');\n",
              "        buttonEl.style.display =\n",
              "          google.colab.kernel.accessAllowed ? 'block' : 'none';\n",
              "\n",
              "        async function convertToInteractive(key) {\n",
              "          const element = document.querySelector('#df-63c8f9f4-864d-4692-a28f-65d58bdc9f11');\n",
              "          const dataTable =\n",
              "            await google.colab.kernel.invokeFunction('convertToInteractive',\n",
              "                                                     [key], {});\n",
              "          if (!dataTable) return;\n",
              "\n",
              "          const docLinkHtml = 'Like what you see? Visit the ' +\n",
              "            '<a target=\"_blank\" href=https://colab.research.google.com/notebooks/data_table.ipynb>data table notebook</a>'\n",
              "            + ' to learn more about interactive tables.';\n",
              "          element.innerHTML = '';\n",
              "          dataTable['output_type'] = 'display_data';\n",
              "          await google.colab.output.renderOutput(dataTable, element);\n",
              "          const docLink = document.createElement('div');\n",
              "          docLink.innerHTML = docLinkHtml;\n",
              "          element.appendChild(docLink);\n",
              "        }\n",
              "      </script>\n",
              "    </div>\n",
              "  </div>\n",
              "  "
            ]
          },
          "metadata": {},
          "execution_count": 2
        }
      ],
      "source": [
        "data=pd.DataFrame({\n",
        "    'sepal length':iris_data.data[:,0],\n",
        "    'sepal width':iris_data.data[:,1],\n",
        "    'petal length':iris_data.data[:,2],\n",
        "    'petal width':iris_data.data[:,3],\n",
        "    'species':iris_data.target\n",
        "})\n",
        "data.head()"
      ]
    },
    {
      "cell_type": "code",
      "execution_count": 3,
      "metadata": {
        "id": "xIW45Zcf45c4",
        "colab": {
          "base_uri": "https://localhost:8080/"
        },
        "outputId": "4fbe15fc-f1e5-4faf-95b4-7d396588696e"
      },
      "outputs": [
        {
          "output_type": "stream",
          "name": "stdout",
          "text": [
            "Accuracy: 0.9777777777777777\n",
            "CLASSIFICATION REPORT\n",
            "              precision    recall  f1-score   support\n",
            "\n",
            "           0       1.00      1.00      1.00        10\n",
            "           1       1.00      0.95      0.97        19\n",
            "           2       0.94      1.00      0.97        16\n",
            "\n",
            "    accuracy                           0.98        45\n",
            "   macro avg       0.98      0.98      0.98        45\n",
            "weighted avg       0.98      0.98      0.98        45\n",
            "\n"
          ]
        }
      ],
      "source": [
        "X_train, X_test, y_train, y_test = train_test_split(X, y, test_size=0.3) # 70% training and 30% test\n",
        "\n",
        "# X, y = make_classification(n_samples=10, n_features=4,\n",
        "#                            n_informative=2, n_redundant=0, \n",
        "#                            random_state=0, shuffle=False)\n",
        "clf = RandomForestClassifier(n_estimators=100)\n",
        "#clf=RandomForestClassifier(n_estimators=100)\n",
        "\n",
        "clf.fit(X_train,y_train)\n",
        "\n",
        "y_pred=clf.predict(X_test)\n",
        "\n",
        "print(\"Accuracy:\",metrics.accuracy_score(y_test, y_pred))\n",
        "\n",
        "prec_rec = classification_report(y_pred, y_test)\n",
        "print(\"CLASSIFICATION REPORT\")\n",
        "print(prec_rec)"
      ]
    },
    {
      "cell_type": "code",
      "execution_count": 4,
      "metadata": {
        "colab": {
          "base_uri": "https://localhost:8080/"
        },
        "id": "gU2-2UBn6ZOt",
        "outputId": "466761f0-a03d-4e5b-ca3e-037ebcf6533b"
      },
      "outputs": [
        {
          "output_type": "stream",
          "name": "stdout",
          "text": [
            "DecisionTreeClassifier(max_features='auto', random_state=425665804)\n"
          ]
        }
      ],
      "source": [
        "ind_tree = (clf.estimators_[4])\n",
        "print(ind_tree)"
      ]
    },
    {
      "cell_type": "code",
      "execution_count": 5,
      "metadata": {
        "id": "FIaBQoGR7gdl"
      },
      "outputs": [],
      "source": [
        "class PrunedRandomForest:\n",
        "\n",
        "\n",
        "    def __init__(self, n_clusters = 10 , n_estimators = 100, cv = 5):\n",
        "        \"\"\" this is the unpruned random forest \"\"\"\n",
        "        self.rf = RandomForestClassifier(n_estimators = n_estimators)\n",
        "\n",
        "        \"\"\" this is the final pruned random forest \"\"\"\n",
        "        self.prf = None \n",
        "        self.prf1 = None \n",
        "\n",
        "        \n",
        "        \"\"\"this is a list of decision tree object present in original unpruned random forest\"\"\"\n",
        "        self.decision_trees = None \n",
        "        \n",
        "        \"\"\"number of clusters for pruning\"\"\"\n",
        "        self.n_clusters = n_clusters \n",
        "        \n",
        "        \n",
        "\n",
        "        \"\"\" \n",
        "            this contains dictionary of lists where each element of dictionary represetns a\n",
        "            pair (cluster_idx, tree_idx_list)\n",
        "\n",
        "            where tree_idx_list is list of decision tree indices and cluster_idx is index of cluster \n",
        "            e.g.\n",
        "            \n",
        "            {\n",
        "                0 : [2, 0]\n",
        "                1 : [1, 3]\n",
        "            }\n",
        "            it means decision tree at 2nd index and 0th index \n",
        "            are in same cluster similarly 1st and 3rd in second cluster\n",
        "\n",
        "        \"\"\" \n",
        "        self.clusters = {}\n",
        "        \n",
        "        self.cv = cv\n",
        "\n",
        "\n",
        "        \"\"\"\n",
        "            Information about all trees in the random forest present in this \n",
        "            form\n",
        "            {\n",
        "                idx : { \n",
        "                    accuracy : 89.34\n",
        "                    cluster : 2\n",
        "                }\n",
        "\n",
        "                idx1 : {\n",
        "\n",
        "                }\n",
        "            }\n",
        "        \"\"\"\n",
        "        self.info = {}\n",
        "        #self.maxs_accuracy = {}\n",
        "        self.fimps = None\n",
        "\n",
        "    def prune(self):\n",
        "        pass\n",
        "\n",
        "    \n",
        "    def fit(self, X, y):\n",
        "        self.rf.fit(X,y)\n",
        "        self.decision_trees = self.rf.estimators_\n",
        "        self.create_feature_imp_clusters()\n",
        "        self.create_feature_imp_clusters1()\n",
        "        self.create_fimp_agglomerative()\n",
        "        self.create_fimp_gaussian()\n",
        "        self.create_fimp_spectral_clustering()\n",
        "        #self.plot_clusters(X,y)\n",
        "        #self.all_algorithms()\n",
        "\n",
        "        self.fill_info(X, y)\n",
        "        #self.max_accuracy(X,y)\n",
        "        self.prune()\n",
        "\n",
        "    def fill_info(self, X, y):\n",
        "        for idx, tree in enumerate(self.decision_trees):\n",
        "            self.info[idx] = self.fill_for_tree(tree, X, y)\n",
        "\n",
        "        for cluster_idx in self.clusters:\n",
        "            for tree_idx in self.clusters[cluster_idx]:\n",
        "                self.info[tree_idx][\"cluster_idx\"] = cluster_idx \n",
        "       \n",
        "\n",
        "    \"\"\"\n",
        "        {\n",
        "            \"accuracy\" : 98.45,\n",
        "            \n",
        "        } \n",
        "    \"\"\"\n",
        "\n",
        "\n",
        "    def fill_for_tree(self, tree, X, y):\n",
        "        info = {}\n",
        "        mean_score = cross_val_score(tree, X, y, cv=self.cv).mean()\n",
        "        info[\"accuracy\"] = (mean_score)\n",
        "        return info\n",
        "\n",
        "    def predict(self, X):\n",
        "        if(self.prf is None):\n",
        "            return None\n",
        "        \n",
        "        return self.prf.predict(X)\n",
        "\n",
        "    \n",
        "    def get_decision_trees(self):\n",
        "        return self.decision_trees\n",
        "\n",
        "    def get_feature_imps_from_rf(self):\n",
        "        feature_imp_list = []\n",
        "        dts = self.get_decision_trees()\n",
        "        for tree in dts:\n",
        "            feature_imp_list.append(tree.feature_importances_)\n",
        "        return feature_imp_list\n",
        "\n",
        "    def create_feature_imp_clusters(self):\n",
        "        fimps = self.get_feature_imps_from_rf()\n",
        "        #print(fimps)\n",
        "        #print(\"KMEANS\")\n",
        "        kmeans = KMeans(n_clusters=self.n_clusters, random_state=0).fit(fimps)\n",
        "\n",
        "        print(\" fimps len = \" + str(len(fimps)))\n",
        "        labels = kmeans.labels_\n",
        "        score = silhouette_score(fimps, labels, metric='euclidean')\n",
        "        print('Silhouetter Score: %.3f' % score)\n",
        "        #print(labels)\n",
        "        print(\" kmeans.labels_ len = \" + str(len(kmeans.labels_)))\n",
        "        for (tree_idx, cluster_idx) in enumerate(kmeans.labels_):\n",
        "            if cluster_idx in self.clusters:\n",
        "                self.clusters[cluster_idx].append(tree_idx)\n",
        "            else:\n",
        "                self.clusters[cluster_idx] = [tree_idx]\n",
        "        \n",
        "    def create_feature_imp_clusters1(self):\n",
        "        fimps = self.get_feature_imps_from_rf()\n",
        "        #print(\"DBSCAN-\")\n",
        "        dbscan = DBSCAN().fit(fimps)\n",
        "\n",
        "        print(\" fimps len = \" + str(len(fimps)))\n",
        "        labels = dbscan.labels_\n",
        "        #print(labels)\n",
        "        print(\" dbscan.labels_ len = \" + str(len(labels)))\n",
        "        \n",
        "\n",
        "    def create_fimp_agglomerative(self):\n",
        "        fimps = self.get_feature_imps_from_rf()\n",
        "        #print(\"AGGLOMERATIVE CLUSTERING-\")\n",
        "        groups = AgglomerativeClustering(n_clusters=self.n_clusters).fit(fimps)\n",
        "        #print(groups.labels_)\n",
        "\n",
        "    def create_fimp_gaussian(self):\n",
        "      fimps = self.get_feature_imps_from_rf()\n",
        "      #print(\"GAUSSIAN CLUSTERING-\")\n",
        "      gmm =GaussianMixture(n_components = 5)\n",
        "      gmm.fit(fimps)\n",
        "      labelsgmm = gmm.predict(fimps)\n",
        "      #print(labelsgmm)\n",
        "      \n",
        "    def create_fimp_spectral_clustering(self):\n",
        "      fimps = self.get_feature_imps_from_rf()\n",
        "      models = SpectralClustering(n_clusters=6, random_state=25, n_neighbors=8, affinity='nearest_neighbors')\n",
        "      models.fit(fimps)\n",
        "      labelsx = models.fit_predict(fimps)\n",
        "      #print(labelsx)\n"
      ]
    },
    {
      "cell_type": "code",
      "execution_count": 6,
      "metadata": {
        "colab": {
          "base_uri": "https://localhost:8080/"
        },
        "id": "ZzfqyHYkr1Jo",
        "outputId": "39adb5c7-8e42-4e76-c13f-6ff73cb8a629"
      },
      "outputs": [
        {
          "output_type": "stream",
          "name": "stdout",
          "text": [
            " fimps len = 100\n",
            "Silhouetter Score: 0.570\n",
            " kmeans.labels_ len = 100\n",
            " fimps len = 100\n",
            " dbscan.labels_ len = 100\n",
            "KMEANS-\n",
            "1 ==>  [0, 3, 6, 8, 15, 26, 27, 34, 40, 42, 50, 64, 73, 78, 79, 87, 91, 97, 99]\n",
            "2 ==>  [1, 7, 23, 32, 46, 47, 74]\n",
            "8 ==>  [2, 20, 21, 30, 31, 51, 56, 58, 65, 71, 76, 81, 89, 94]\n",
            "4 ==>  [4, 5, 10, 11, 16, 17, 18, 28, 35, 41, 45, 49, 52, 53, 60, 62, 68, 70, 72, 75, 90, 92, 93]\n",
            "5 ==>  [9, 13, 19, 61]\n",
            "0 ==>  [12, 14, 22, 37, 38, 39, 44, 54, 59, 63, 69, 80, 82, 84, 86, 88, 95, 96, 98]\n",
            "6 ==>  [24, 33, 57, 66, 67]\n",
            "3 ==>  [25, 43, 55, 83]\n",
            "7 ==>  [29, 48, 77, 85]\n",
            "9 ==>  [36]\n",
            " fimps len = 100\n",
            "Silhouetter Score: 0.553\n",
            " kmeans.labels_ len = 100\n",
            " fimps len = 100\n",
            " dbscan.labels_ len = 100\n",
            "DBSCAN-\n",
            "9 ==>  [0, 8, 10, 11, 18, 25, 28, 30, 31, 47, 49, 54, 67, 70, 79, 83, 86, 91]\n",
            "8 ==>  [1, 37, 40]\n",
            "2 ==>  [2, 7, 14, 22, 23, 26, 29, 33, 39, 53, 57, 63, 64, 66, 72, 76, 77, 78, 88, 95, 97, 99]\n",
            "7 ==>  [3, 5, 16, 50, 51, 93]\n",
            "5 ==>  [4, 6, 13, 15, 32, 34, 36, 43, 46, 52, 58, 59, 74, 75, 80, 82, 84, 89]\n",
            "4 ==>  [9, 17, 20, 21, 41, 56, 60, 61, 62, 68, 69, 73, 90, 94]\n",
            "6 ==>  [12, 55, 71, 81]\n",
            "0 ==>  [19, 24, 27, 35, 44, 45, 87, 96]\n",
            "1 ==>  [38, 42, 65, 85, 98]\n",
            "3 ==>  [48, 92]\n",
            " fimps len = 100\n",
            "Silhouetter Score: 0.578\n",
            " kmeans.labels_ len = 100\n",
            " fimps len = 100\n",
            " dbscan.labels_ len = 100\n",
            "AGGLO\n",
            "8 ==>  [0, 2, 4, 8, 12, 27, 69, 93]\n",
            "7 ==>  [1, 18, 34, 39, 40, 51, 52, 53, 59, 62, 71, 72, 75, 81, 86, 89, 96, 98]\n",
            "0 ==>  [3, 44, 48, 57, 58]\n",
            "6 ==>  [5, 46, 80, 84]\n",
            "1 ==>  [6, 10, 11, 13, 15, 23, 24, 30, 49, 54, 55, 63, 68, 70, 82, 83, 87, 91]\n",
            "2 ==>  [7, 9, 14, 16, 17, 22, 25, 31, 33, 35, 43, 45, 60, 64, 65, 67, 74, 77, 79, 88, 92, 95]\n",
            "9 ==>  [19, 21, 47, 97]\n",
            "3 ==>  [20, 26, 28, 36, 37, 38, 41, 42, 50, 66, 76, 78, 85, 90, 94, 99]\n",
            "5 ==>  [29]\n",
            "4 ==>  [32, 56, 61, 73]\n",
            " fimps len = 100\n",
            "Silhouetter Score: 0.566\n",
            " kmeans.labels_ len = 100\n",
            " fimps len = 100\n",
            " dbscan.labels_ len = 100\n",
            "Gaussian\n",
            "8 ==>  [0, 19, 34, 39, 61, 86]\n",
            "6 ==>  [1, 2, 20, 46, 56, 57, 72, 84]\n",
            "0 ==>  [3, 4, 5, 14, 25, 30, 33, 43, 44, 54, 60, 65, 68, 79, 85]\n",
            "1 ==>  [6, 9, 10, 18, 23, 26, 29, 36, 37, 38, 55, 62, 63, 66, 75, 78, 87, 89, 98]\n",
            "3 ==>  [7, 15, 16, 24, 40, 48, 51, 58, 76, 92, 93, 95, 96, 99]\n",
            "7 ==>  [8, 74, 82, 83, 88, 97]\n",
            "5 ==>  [11, 42, 49, 77, 91]\n",
            "4 ==>  [12, 13, 17, 21, 22, 28, 31, 32, 35, 45, 47, 50, 52, 53, 64, 67, 69, 73, 81]\n",
            "2 ==>  [27, 59, 70, 71, 80, 90]\n",
            "9 ==>  [41, 94]\n",
            " fimps len = 100\n",
            "Silhouetter Score: 0.526\n",
            " kmeans.labels_ len = 100\n",
            " fimps len = 100\n",
            " dbscan.labels_ len = 100\n",
            "spectral clustering\n",
            "0 ==>  [0, 20, 23, 24, 28, 44, 67, 75]\n",
            "2 ==>  [1, 6, 16, 19, 26, 37, 46, 51, 56, 72, 82, 90]\n",
            "8 ==>  [2, 8, 12, 27, 30, 33, 41, 52, 73, 78, 81, 84, 99]\n",
            "5 ==>  [3, 14, 22, 34, 35, 42, 55, 59, 68, 70, 76, 86, 92, 96]\n",
            "4 ==>  [4, 5, 7, 11, 17, 21, 32, 36, 40, 50, 53, 61, 62, 64, 66, 71, 83, 87, 88, 89, 93, 98]\n",
            "6 ==>  [9, 13, 31, 45, 47, 60]\n",
            "3 ==>  [10, 15, 18, 29, 39, 43, 58, 63, 65, 74, 79, 80, 94, 95, 97]\n",
            "9 ==>  [25, 54, 85]\n",
            "1 ==>  [38, 48, 69, 77, 91]\n",
            "7 ==>  [49, 57]\n"
          ]
        }
      ],
      "source": [
        "prf = PrunedRandomForest(10, 100)\n",
        "prf.fit(X, y)\n",
        "print('KMEANS-')\n",
        "for cluster_idx in prf.clusters:\n",
        "          print(str(cluster_idx) + \" ==> \", prf.clusters[cluster_idx])\n",
        "\n",
        "prf1 = PrunedRandomForest()\n",
        "prf1.fit(X, y)\n",
        "print('DBSCAN-')\n",
        "for cluster_idx in prf1.clusters:\n",
        "          print(str(cluster_idx) + \" ==> \", prf1.clusters[cluster_idx])\n",
        "\n",
        "prf2 = PrunedRandomForest()\n",
        "prf2.fit(X, y)\n",
        "print('AGGLO')\n",
        "for cluster_idx in prf2.clusters:\n",
        "          print(str(cluster_idx) + \" ==> \", prf2.clusters[cluster_idx])\n",
        "\n",
        "prf3 = PrunedRandomForest()\n",
        "prf3.fit(X,y)\n",
        "print('Gaussian')\n",
        "for cluster_idx in prf3.clusters:\n",
        "          print(str(cluster_idx) + \" ==> \", prf3.clusters[cluster_idx])\n",
        "\n",
        "prf4 = PrunedRandomForest()\n",
        "prf4.fit(X,y)\n",
        "print('spectral clustering')\n",
        "for cluster_idx in prf4.clusters:\n",
        "          print(str(cluster_idx) + \" ==> \", prf4.clusters[cluster_idx])\n"
      ]
    },
    {
      "cell_type": "code",
      "execution_count": 7,
      "metadata": {
        "id": "lYcN1727hdJv"
      },
      "outputs": [],
      "source": [
        "  # def plot_clusters(model, X):\n",
        "  #     pred = model.fit(X)\n",
        "  #     clusters = unique(pred)\n",
        "  #     for cluster in clusters:\n",
        "  #       row_idx = where(pred == cluster)\n",
        "  #       # create scatter of these samples\n",
        "  #       col0 = getColumn(X, row_idx, 0)\n",
        "  #       col1 = getColumn(X, row_idx, 1)\n",
        "  #       pyplot.scatter(col0, col1)\n",
        "  #   # show the plot\n",
        "  #   pyplot.show()\n",
        "\n",
        "  #   def all_algorithms(self):\n",
        "  #       fimps = self.get_feature_imps_from_rf()\n",
        "  #       print(\"KMEANS\")\n",
        "  #       kmeans = self.plot_clusters(KMeans(n_clusters=self.n_clusters, random_state=0), fimps)\n",
        "  #       print(\"DBSCAN-\")\n",
        "  #       dbscan = self.plot_clusters(DBSCAN(), fimps)\n",
        "  #       print(\"AGGLOMERATIVE CLUSTERING-\")\n",
        "  #       groups = self.plot_clusters(AgglomerativeClustering(n_clusters=self.n_clusters), fimps)\n",
        "  #       print(\" fimps len = \" + str(len(fimps)))\n",
        "  #       #print(labels)\n",
        "  #       print(\" kmeans.labels_ len = \" + str(len(kmeans.labels_)))"
      ]
    },
    {
      "cell_type": "code",
      "execution_count": 8,
      "metadata": {
        "colab": {
          "base_uri": "https://localhost:8080/",
          "height": 298
        },
        "id": "PNOSc02PVaCY",
        "outputId": "5580d55a-6b1b-4169-dc02-d7a981221ac2"
      },
      "outputs": [
        {
          "output_type": "execute_result",
          "data": {
            "text/plain": [
              "AgglomerativeClustering(n_clusters=4)"
            ]
          },
          "metadata": {},
          "execution_count": 8
        },
        {
          "output_type": "display_data",
          "data": {
            "text/plain": [
              "<Figure size 432x288 with 1 Axes>"
            ],
            "image/png": "[encoded data removed]"
          },
          "metadata": {
            "needs_background": "light"
          }
        }
      ],
      "source": [
        "plt.title(\"Dendograms\")\n",
        "dend = shc.dendrogram(shc.linkage(X, method='ward'))\n",
        "groups = AgglomerativeClustering(n_clusters=4, affinity='euclidean', linkage=\"ward\")\n",
        "groups.fit(X)"
      ]
    },
    {
      "cell_type": "code",
      "source": [
        "prf.info"
      ],
      "metadata": {
        "colab": {
          "base_uri": "https://localhost:8080/"
        },
        "id": "drhPY0GiOF_q",
        "outputId": "7e2fe1e3-e1c3-441f-cb5e-31eee5f387b2"
      },
      "execution_count": 9,
      "outputs": [
        {
          "output_type": "execute_result",
          "data": {
            "text/plain": [
              "{0: {'accuracy': 0.9533333333333334, 'cluster_idx': 1},\n",
              " 1: {'accuracy': 0.9400000000000001, 'cluster_idx': 2},\n",
              " 2: {'accuracy': 0.9466666666666667, 'cluster_idx': 8},\n",
              " 3: {'accuracy': 0.9666666666666668, 'cluster_idx': 1},\n",
              " 4: {'accuracy': 0.9466666666666667, 'cluster_idx': 4},\n",
              " 5: {'accuracy': 0.9199999999999999, 'cluster_idx': 4},\n",
              " 6: {'accuracy': 0.9400000000000001, 'cluster_idx': 1},\n",
              " 7: {'accuracy': 0.9733333333333334, 'cluster_idx': 2},\n",
              " 8: {'accuracy': 0.9400000000000001, 'cluster_idx': 1},\n",
              " 9: {'accuracy': 0.9533333333333334, 'cluster_idx': 5},\n",
              " 10: {'accuracy': 0.9333333333333332, 'cluster_idx': 4},\n",
              " 11: {'accuracy': 0.9333333333333332, 'cluster_idx': 4},\n",
              " 12: {'accuracy': 0.9466666666666667, 'cluster_idx': 0},\n",
              " 13: {'accuracy': 0.9466666666666667, 'cluster_idx': 5},\n",
              " 14: {'accuracy': 0.9399999999999998, 'cluster_idx': 0},\n",
              " 15: {'accuracy': 0.9600000000000002, 'cluster_idx': 1},\n",
              " 16: {'accuracy': 0.9533333333333334, 'cluster_idx': 4},\n",
              " 17: {'accuracy': 0.9266666666666667, 'cluster_idx': 4},\n",
              " 18: {'accuracy': 0.9533333333333334, 'cluster_idx': 4},\n",
              " 19: {'accuracy': 0.9199999999999999, 'cluster_idx': 5},\n",
              " 20: {'accuracy': 0.9666666666666668, 'cluster_idx': 8},\n",
              " 21: {'accuracy': 0.96, 'cluster_idx': 8},\n",
              " 22: {'accuracy': 0.9533333333333334, 'cluster_idx': 0},\n",
              " 23: {'accuracy': 0.9266666666666667, 'cluster_idx': 2},\n",
              " 24: {'accuracy': 0.9533333333333334, 'cluster_idx': 6},\n",
              " 25: {'accuracy': 0.96, 'cluster_idx': 3},\n",
              " 26: {'accuracy': 0.9666666666666668, 'cluster_idx': 1},\n",
              " 27: {'accuracy': 0.9666666666666666, 'cluster_idx': 1},\n",
              " 28: {'accuracy': 0.9400000000000001, 'cluster_idx': 4},\n",
              " 29: {'accuracy': 0.9399999999999998, 'cluster_idx': 7},\n",
              " 30: {'accuracy': 0.9533333333333334, 'cluster_idx': 8},\n",
              " 31: {'accuracy': 0.9600000000000002, 'cluster_idx': 8},\n",
              " 32: {'accuracy': 0.9466666666666667, 'cluster_idx': 2},\n",
              " 33: {'accuracy': 0.96, 'cluster_idx': 6},\n",
              " 34: {'accuracy': 0.9600000000000002, 'cluster_idx': 1},\n",
              " 35: {'accuracy': 0.9666666666666668, 'cluster_idx': 4},\n",
              " 36: {'accuracy': 0.9400000000000001, 'cluster_idx': 9},\n",
              " 37: {'accuracy': 0.96, 'cluster_idx': 0},\n",
              " 38: {'accuracy': 0.9400000000000001, 'cluster_idx': 0},\n",
              " 39: {'accuracy': 0.9533333333333334, 'cluster_idx': 0},\n",
              " 40: {'accuracy': 0.96, 'cluster_idx': 1},\n",
              " 41: {'accuracy': 0.9533333333333334, 'cluster_idx': 4},\n",
              " 42: {'accuracy': 0.9666666666666668, 'cluster_idx': 1},\n",
              " 43: {'accuracy': 0.9733333333333334, 'cluster_idx': 3},\n",
              " 44: {'accuracy': 0.9600000000000002, 'cluster_idx': 0},\n",
              " 45: {'accuracy': 0.9400000000000001, 'cluster_idx': 4},\n",
              " 46: {'accuracy': 0.9333333333333333, 'cluster_idx': 2},\n",
              " 47: {'accuracy': 0.9466666666666667, 'cluster_idx': 2},\n",
              " 48: {'accuracy': 0.9400000000000001, 'cluster_idx': 7},\n",
              " 49: {'accuracy': 0.9333333333333332, 'cluster_idx': 4},\n",
              " 50: {'accuracy': 0.9533333333333334, 'cluster_idx': 1},\n",
              " 51: {'accuracy': 0.9466666666666667, 'cluster_idx': 8},\n",
              " 52: {'accuracy': 0.96, 'cluster_idx': 4},\n",
              " 53: {'accuracy': 0.9600000000000002, 'cluster_idx': 4},\n",
              " 54: {'accuracy': 0.9466666666666667, 'cluster_idx': 0},\n",
              " 55: {'accuracy': 0.9466666666666667, 'cluster_idx': 3},\n",
              " 56: {'accuracy': 0.9466666666666667, 'cluster_idx': 8},\n",
              " 57: {'accuracy': 0.9466666666666667, 'cluster_idx': 6},\n",
              " 58: {'accuracy': 0.9333333333333333, 'cluster_idx': 8},\n",
              " 59: {'accuracy': 0.9533333333333334, 'cluster_idx': 0},\n",
              " 60: {'accuracy': 0.9466666666666667, 'cluster_idx': 4},\n",
              " 61: {'accuracy': 0.9466666666666667, 'cluster_idx': 5},\n",
              " 62: {'accuracy': 0.9533333333333334, 'cluster_idx': 4},\n",
              " 63: {'accuracy': 0.9533333333333334, 'cluster_idx': 0},\n",
              " 64: {'accuracy': 0.9600000000000002, 'cluster_idx': 1},\n",
              " 65: {'accuracy': 0.9333333333333333, 'cluster_idx': 8},\n",
              " 66: {'accuracy': 0.96, 'cluster_idx': 6},\n",
              " 67: {'accuracy': 0.9199999999999999, 'cluster_idx': 6},\n",
              " 68: {'accuracy': 0.9466666666666667, 'cluster_idx': 4},\n",
              " 69: {'accuracy': 0.96, 'cluster_idx': 0},\n",
              " 70: {'accuracy': 0.9399999999999998, 'cluster_idx': 4},\n",
              " 71: {'accuracy': 0.9466666666666667, 'cluster_idx': 8},\n",
              " 72: {'accuracy': 0.9466666666666667, 'cluster_idx': 4},\n",
              " 73: {'accuracy': 0.9733333333333334, 'cluster_idx': 1},\n",
              " 74: {'accuracy': 0.9400000000000001, 'cluster_idx': 2},\n",
              " 75: {'accuracy': 0.9399999999999998, 'cluster_idx': 4},\n",
              " 76: {'accuracy': 0.9266666666666665, 'cluster_idx': 8},\n",
              " 77: {'accuracy': 0.96, 'cluster_idx': 7},\n",
              " 78: {'accuracy': 0.9533333333333334, 'cluster_idx': 1},\n",
              " 79: {'accuracy': 0.9533333333333334, 'cluster_idx': 1},\n",
              " 80: {'accuracy': 0.9333333333333332, 'cluster_idx': 0},\n",
              " 81: {'accuracy': 0.9466666666666667, 'cluster_idx': 8},\n",
              " 82: {'accuracy': 0.9533333333333334, 'cluster_idx': 0},\n",
              " 83: {'accuracy': 0.9400000000000001, 'cluster_idx': 3},\n",
              " 84: {'accuracy': 0.9533333333333334, 'cluster_idx': 0},\n",
              " 85: {'accuracy': 0.96, 'cluster_idx': 7},\n",
              " 86: {'accuracy': 0.96, 'cluster_idx': 0},\n",
              " 87: {'accuracy': 0.9533333333333334, 'cluster_idx': 1},\n",
              " 88: {'accuracy': 0.9533333333333334, 'cluster_idx': 0},\n",
              " 89: {'accuracy': 0.9533333333333334, 'cluster_idx': 8},\n",
              " 90: {'accuracy': 0.9466666666666667, 'cluster_idx': 4},\n",
              " 91: {'accuracy': 0.9600000000000002, 'cluster_idx': 1},\n",
              " 92: {'accuracy': 0.9466666666666667, 'cluster_idx': 4},\n",
              " 93: {'accuracy': 0.9533333333333334, 'cluster_idx': 4},\n",
              " 94: {'accuracy': 0.9199999999999999, 'cluster_idx': 8},\n",
              " 95: {'accuracy': 0.9666666666666668, 'cluster_idx': 0},\n",
              " 96: {'accuracy': 0.9333333333333333, 'cluster_idx': 0},\n",
              " 97: {'accuracy': 0.9666666666666668, 'cluster_idx': 1},\n",
              " 98: {'accuracy': 0.9600000000000002, 'cluster_idx': 0},\n",
              " 99: {'accuracy': 0.9666666666666668, 'cluster_idx': 1}}"
            ]
          },
          "metadata": {},
          "execution_count": 9
        }
      ]
    },
    {
      "cell_type": "code",
      "execution_count": 10,
      "metadata": {
        "id": "tXGhTURny7i_",
        "colab": {
          "base_uri": "https://localhost:8080/"
        },
        "outputId": "e0670b72-6835-4958-bd9b-b71dc55cfd3e"
      },
      "outputs": [
        {
          "output_type": "stream",
          "name": "stdout",
          "text": [
            "0.9733333333333334 1\n",
            "List of clusters with maximum accuracy is:\n",
            "\n",
            "Cluster index,Maximum accuracy,decision tree\n",
            " [[1, 0.9666666666666668, 3], [1, 0.9733333333333334, 73], [2, 0.9733333333333334, 7], [3, 0.9733333333333334, 43]]\n"
          ]
        }
      ],
      "source": [
        "max_acc = -1\n",
        "max_acc_in_cluster = -1\n",
        "idx = \"\"\n",
        "lists = []\n",
        "list1 = []\n",
        "res = set()\n",
        "dicts = prf.info\n",
        "for k, subdict in dicts.items():\n",
        "      res.add(subdict['cluster_idx'])\n",
        "      if subdict['accuracy'] >= max_acc:\n",
        "        max_acc = subdict['accuracy']\n",
        "        idx = subdict['cluster_idx']\n",
        "        lists.append([max_acc,idx, k])\n",
        "        for i in range(len(res)):\n",
        "          if i == idx:\n",
        "            list1.append([i,max_acc,k])\n",
        "\n",
        "print(max_acc, idx)\n",
        "result = set([c for a, c, t in lists])\n",
        "result\n",
        "print(\"List of clusters with maximum accuracy is:\\n\")\n",
        "print(\"Cluster index,Maximum accuracy,decision tree\\n\",sorted(list1))\n",
        "\n",
        "#for each cluster get max acc nd tree to be selected as representsative\n",
        "#once all the cluster representatives are found ..remove all others ..prune function\n",
        "# calculated overall performance of random forest again-challenging"
      ]
    },
    {
      "cell_type": "code",
      "source": [
        "# Highest acuracy selection-Cluster Representative\n",
        "def getMaxAccuracyCluster(dicts):\n",
        "    clusterObj = {}\n",
        "    for key, value in dicts.items():\n",
        "      if(clusterObj.get(str(value[\"cluster_idx\"])) != None):\n",
        "        clusterObj[str(value[\"cluster_idx\"])].append({\"index\" : key, \"accuracy\" : value['accuracy']})\n",
        "      else:\n",
        "        clusterObj[str(value[\"cluster_idx\"])] = []\n",
        "        clusterObj[str(value[\"cluster_idx\"])].append({\"index\" : key, \"accuracy\" : value['accuracy']})\n",
        "    #Restructured the object so the key for dictionary is cluster_idx\n",
        "    #Now you can access all the accuracies of cluster as below\n",
        "    #print(clusterObj[\"2\"])\n",
        "    clusterMaxAccuracyObj = {}\n",
        "    for clusterIndex in clusterObj.keys():\n",
        "      max_acc = -1;\n",
        "      for obj in clusterObj[clusterIndex]:\n",
        "        if obj['accuracy'] == max_acc:\n",
        "          clusterMaxAccuracyObj[str(clusterIndex)].append(obj['index'])\n",
        "        if obj['accuracy'] > max_acc:\n",
        "          max_acc = obj['accuracy']\n",
        "          clusterMaxAccuracyObj[str(clusterIndex)] = []\n",
        "          clusterMaxAccuracyObj[str(clusterIndex)].append(obj['index'])\n",
        "    print(clusterMaxAccuracyObj)\n",
        "    dict1 = {}\n",
        "    print(\"Selecting first maximum accuracy of a decision tree in each cluster:\")\n",
        "    for key,val in clusterMaxAccuracyObj.items():\n",
        "      output = {key : val[0]}\n",
        "      print(output)\n",
        "    return clusterMaxAccuracyObj"
      ],
      "metadata": {
        "id": "WW3VvbO-6Yah"
      },
      "execution_count": 11,
      "outputs": []
    },
    {
      "cell_type": "code",
      "source": [
        "getMaxAccuracyCluster(prf.info)"
      ],
      "metadata": {
        "colab": {
          "base_uri": "https://localhost:8080/"
        },
        "id": "QQ__aUK-fUXj",
        "outputId": "6c0abab3-efd7-441c-c101-62f7c0b6b914"
      },
      "execution_count": 12,
      "outputs": [
        {
          "output_type": "stream",
          "name": "stdout",
          "text": [
            "{'1': [73], '2': [7], '8': [20], '4': [35], '5': [9], '0': [95], '6': [33, 66], '3': [43], '7': [77, 85], '9': [36]}\n",
            "Selecting first maximum accuracy of a decision tree in each cluster:\n",
            "{'1': 73}\n",
            "{'2': 7}\n",
            "{'8': 20}\n",
            "{'4': 35}\n",
            "{'5': 9}\n",
            "{'0': 95}\n",
            "{'6': 33}\n",
            "{'3': 43}\n",
            "{'7': 77}\n",
            "{'9': 36}\n"
          ]
        },
        {
          "output_type": "execute_result",
          "data": {
            "text/plain": [
              "{'0': [95],\n",
              " '1': [73],\n",
              " '2': [7],\n",
              " '3': [43],\n",
              " '4': [35],\n",
              " '5': [9],\n",
              " '6': [33, 66],\n",
              " '7': [77, 85],\n",
              " '8': [20],\n",
              " '9': [36]}"
            ]
          },
          "metadata": {},
          "execution_count": 12
        }
      ]
    },
    {
      "cell_type": "code",
      "source": [
        "prf.decision_trees[0].predict(X)"
      ],
      "metadata": {
        "colab": {
          "base_uri": "https://localhost:8080/"
        },
        "id": "YnvPjJ_fUmQt",
        "outputId": "3dd9e76a-b0fe-4b2f-de0f-c8d6ad49a534"
      },
      "execution_count": 13,
      "outputs": [
        {
          "output_type": "execute_result",
          "data": {
            "text/plain": [
              "array([0., 0., 0., 0., 0., 0., 0., 0., 0., 0., 0., 0., 0., 0., 0., 0., 0.,\n",
              "       0., 0., 0., 0., 0., 0., 0., 0., 0., 0., 0., 0., 0., 0., 0., 0., 0.,\n",
              "       0., 0., 0., 0., 0., 0., 0., 0., 0., 0., 0., 0., 0., 0., 0., 0., 1.,\n",
              "       1., 1., 1., 1., 1., 1., 1., 1., 1., 1., 1., 1., 1., 1., 1., 1., 1.,\n",
              "       1., 1., 1., 1., 1., 1., 1., 1., 1., 2., 1., 1., 1., 1., 1., 1., 1.,\n",
              "       1., 1., 1., 1., 1., 1., 1., 1., 1., 1., 1., 1., 1., 1., 1., 2., 2.,\n",
              "       2., 2., 2., 2., 2., 2., 2., 2., 2., 2., 2., 2., 2., 2., 2., 2., 2.,\n",
              "       2., 2., 2., 2., 2., 2., 2., 2., 2., 2., 2., 2., 2., 2., 2., 1., 2.,\n",
              "       2., 2., 2., 2., 2., 2., 2., 2., 2., 2., 2., 2., 2., 2.])"
            ]
          },
          "metadata": {},
          "execution_count": 13
        }
      ]
    },
    {
      "cell_type": "code",
      "source": [
        "def getTreeList(X, dicts):\n",
        "    treeIdxs = []\n",
        "    for trees in dicts.values():\n",
        "        treeIdxs.append(trees[0])\n",
        "    return treeIdxs\n",
        "\n",
        "stored_ypred = []\n",
        "def predict(X, treeList, prf):\n",
        "    ypred = []\n",
        "    for treeIdx in treeList:\n",
        "        print(prf.decision_trees[treeIdx].predict(X))\n",
        "        ypred.append(prf.decision_trees[treeIdx].predict(X))\n",
        "    stored_ypred.append(ypred)\n",
        "    print(type(ypred))\n",
        "    return getMajorityLabels(ypred)\n",
        "\n",
        "def getMajorityLabels(pred):\n",
        "    predNp = np.array(pred)\n",
        "    rows,cols = predNp.shape\n",
        "    res = []\n",
        "    for colIdx in range(cols):\n",
        "        col = list(predNp[:, colIdx])\n",
        "        res.append(max(set(col), key = col.count))\n",
        "    return res\n",
        "\n",
        "\n"
      ],
      "metadata": {
        "id": "dnbQIEqiEq29"
      },
      "execution_count": 14,
      "outputs": []
    },
    {
      "cell_type": "code",
      "source": [
        "treeList = getTreeList(X, getMaxAccuracyCluster(prf.info))\n",
        "# print(prf)\n",
        "# print(type(prf))\n",
        "# print(treeList)\n",
        "# print(X)\n",
        "# predict(X, treeList, prf)\n",
        "#print(prf.decision_trees[0].predict(X_test))\n",
        "\n",
        "y_preed = predict(X_test, treeList, prf)\n",
        "\n",
        "print(\"final answer = \", y_preed)\n",
        "# max_value=-1\n",
        "# stored_ypred = stored_ypred[0]\n",
        "# print(stored_ypred)\n",
        "\n",
        "# for i in range(len(stored_ypred[0])):\n",
        "#   final_flag = []\n",
        "#   flags = {}\n",
        "#   for j in range(len(stored_ypred)):\n",
        "#     if(flags.get(str(stored_ypred[j][i])) != None):\n",
        "#       flags[str(stored_ypred[j][i])] = flags.get(str(stored_ypred[j][i])) + 1\n",
        "#     else:\n",
        "#       flags[str(stored_ypred[j][i])] = 1\n",
        "#     final_flag.append(str(stored_ypred[j][i]))\n",
        "#   print(flags)\n",
        "#   print(final_flag)\n",
        "#   # for dicts in flags:\n",
        "#   #   if dicts.values()> max_value:\n",
        "#   #     max_value = dicts.values()\n",
        "#   #     final_flag.append([dicts.key(),max_value])\n",
        "#   # print(final_flag)\n",
        "\n",
        "\n",
        "  \n",
        "print(\"testing target data:\",y_test)\n",
        "  \n",
        "print(\"Accuracy:\",metrics.accuracy_score(y_test, y_preed))"
      ],
      "metadata": {
        "colab": {
          "base_uri": "https://localhost:8080/"
        },
        "id": "HcSWuOugEsLR",
        "outputId": "2820c15f-ae1c-430e-8930-f4a19b0924e6"
      },
      "execution_count": 15,
      "outputs": [
        {
          "output_type": "stream",
          "name": "stdout",
          "text": [
            "{'1': [73], '2': [7], '8': [20], '4': [35], '5': [9], '0': [95], '6': [33, 66], '3': [43], '7': [77, 85], '9': [36]}\n",
            "Selecting first maximum accuracy of a decision tree in each cluster:\n",
            "{'1': 73}\n",
            "{'2': 7}\n",
            "{'8': 20}\n",
            "{'4': 35}\n",
            "{'5': 9}\n",
            "{'0': 95}\n",
            "{'6': 33}\n",
            "{'3': 43}\n",
            "{'7': 77}\n",
            "{'9': 36}\n",
            "[0. 0. 0. 2. 1. 1. 2. 0. 1. 2. 1. 1. 0. 1. 2. 1. 1. 1. 1. 2. 2. 2. 1. 2.\n",
            " 2. 1. 2. 1. 1. 1. 0. 0. 2. 0. 2. 1. 0. 2. 0. 2. 2. 1. 2. 2. 1.]\n",
            "[0. 0. 0. 2. 1. 1. 2. 0. 1. 2. 1. 1. 0. 1. 2. 1. 1. 1. 1. 2. 2. 2. 1. 2.\n",
            " 2. 1. 2. 1. 1. 1. 0. 0. 2. 0. 2. 1. 0. 2. 0. 2. 2. 1. 2. 1. 1.]\n",
            "[0. 0. 0. 2. 1. 1. 2. 0. 1. 2. 1. 1. 0. 1. 2. 1. 1. 1. 1. 2. 2. 2. 1. 2.\n",
            " 2. 1. 2. 1. 1. 1. 0. 0. 2. 0. 2. 1. 0. 2. 0. 2. 2. 1. 2. 2. 1.]\n",
            "[0. 0. 0. 2. 1. 1. 2. 0. 1. 2. 1. 1. 0. 1. 2. 1. 1. 1. 1. 2. 2. 2. 1. 2.\n",
            " 2. 1. 2. 1. 1. 1. 0. 0. 2. 0. 2. 1. 0. 2. 0. 2. 2. 1. 2. 2. 1.]\n",
            "[0. 0. 0. 2. 1. 1. 2. 1. 1. 2. 1. 1. 0. 1. 2. 1. 1. 1. 1. 2. 2. 2. 1. 2.\n",
            " 2. 1. 2. 1. 1. 1. 0. 0. 2. 0. 2. 1. 0. 2. 0. 2. 2. 1. 2. 2. 1.]\n",
            "[0. 0. 0. 2. 1. 1. 2. 0. 1. 2. 2. 1. 0. 1. 2. 1. 1. 1. 1. 2. 2. 2. 1. 2.\n",
            " 2. 1. 2. 1. 1. 1. 0. 0. 2. 0. 2. 1. 0. 2. 0. 2. 2. 1. 2. 1. 1.]\n",
            "[0. 0. 0. 2. 1. 1. 2. 0. 1. 2. 1. 1. 0. 1. 2. 1. 1. 1. 1. 2. 2. 2. 1. 2.\n",
            " 2. 1. 2. 1. 1. 1. 0. 0. 2. 0. 2. 1. 0. 2. 0. 2. 2. 1. 2. 1. 1.]\n",
            "[0. 0. 0. 2. 1. 1. 2. 0. 1. 2. 1. 1. 0. 1. 2. 1. 1. 1. 1. 2. 2. 1. 1. 2.\n",
            " 2. 1. 2. 1. 1. 1. 0. 0. 1. 0. 2. 1. 0. 2. 0. 2. 2. 1. 2. 2. 1.]\n",
            "[0. 0. 0. 1. 1. 1. 2. 0. 1. 2. 1. 1. 0. 1. 2. 1. 1. 1. 1. 2. 2. 2. 1. 2.\n",
            " 2. 1. 2. 1. 1. 1. 0. 0. 2. 0. 2. 1. 0. 2. 0. 2. 2. 1. 2. 2. 1.]\n",
            "[0. 0. 0. 2. 1. 1. 2. 0. 1. 2. 1. 1. 0. 1. 2. 0. 2. 1. 1. 2. 2. 2. 1. 2.\n",
            " 2. 1. 2. 1. 1. 1. 0. 0. 2. 0. 2. 1. 0. 2. 0. 2. 2. 1. 2. 2. 1.]\n",
            "<class 'list'>\n",
            "final answer =  [0.0, 0.0, 0.0, 2.0, 1.0, 1.0, 2.0, 0.0, 1.0, 2.0, 1.0, 1.0, 0.0, 1.0, 2.0, 1.0, 1.0, 1.0, 1.0, 2.0, 2.0, 2.0, 1.0, 2.0, 2.0, 1.0, 2.0, 1.0, 1.0, 1.0, 0.0, 0.0, 2.0, 0.0, 2.0, 1.0, 0.0, 2.0, 0.0, 2.0, 2.0, 1.0, 2.0, 2.0, 1.0]\n",
            "testing target data: [0 0 0 2 1 1 2 0 1 2 1 1 0 1 2 1 1 1 1 2 2 2 1 2 2 1 2 1 1 1 0 0 2 0 2 1 0\n",
            " 2 0 2 2 1 2 2 1]\n",
            "Accuracy: 1.0\n"
          ]
        }
      ]
    },
    {
      "cell_type": "markdown",
      "source": [
        "Most repeated accuracy selection-Mode\n",
        "Average accuracy selection-mean\n",
        "Choosing the middle value after sorting the accuracy-median\n",
        "Apart from accuracy-what else can be chosen for performance evaluation in decision tree???\n",
        "Next step? Pruning? How to evaluate performance after pruning?\n"
      ],
      "metadata": {
        "id": "E7zbgf29hYWJ"
      }
    },
    {
      "cell_type": "code",
      "source": [
        "prf1.info"
      ],
      "metadata": {
        "id": "p5RoK52lis_z",
        "colab": {
          "base_uri": "https://localhost:8080/"
        },
        "outputId": "414d2790-76bf-4ba7-9367-564604238ac7"
      },
      "execution_count": 16,
      "outputs": [
        {
          "output_type": "execute_result",
          "data": {
            "text/plain": [
              "{0: {'accuracy': 0.9266666666666665, 'cluster_idx': 9},\n",
              " 1: {'accuracy': 0.9600000000000002, 'cluster_idx': 8},\n",
              " 2: {'accuracy': 0.9399999999999998, 'cluster_idx': 2},\n",
              " 3: {'accuracy': 0.9533333333333334, 'cluster_idx': 7},\n",
              " 4: {'accuracy': 0.9666666666666668, 'cluster_idx': 5},\n",
              " 5: {'accuracy': 0.9533333333333334, 'cluster_idx': 7},\n",
              " 6: {'accuracy': 0.9266666666666667, 'cluster_idx': 5},\n",
              " 7: {'accuracy': 0.9666666666666668, 'cluster_idx': 2},\n",
              " 8: {'accuracy': 0.9466666666666667, 'cluster_idx': 9},\n",
              " 9: {'accuracy': 0.9333333333333332, 'cluster_idx': 4},\n",
              " 10: {'accuracy': 0.9400000000000001, 'cluster_idx': 9},\n",
              " 11: {'accuracy': 0.9266666666666667, 'cluster_idx': 9},\n",
              " 12: {'accuracy': 0.9533333333333334, 'cluster_idx': 6},\n",
              " 13: {'accuracy': 0.9533333333333334, 'cluster_idx': 5},\n",
              " 14: {'accuracy': 0.96, 'cluster_idx': 2},\n",
              " 15: {'accuracy': 0.9600000000000002, 'cluster_idx': 5},\n",
              " 16: {'accuracy': 0.9400000000000001, 'cluster_idx': 7},\n",
              " 17: {'accuracy': 0.9533333333333334, 'cluster_idx': 4},\n",
              " 18: {'accuracy': 0.9333333333333333, 'cluster_idx': 9},\n",
              " 19: {'accuracy': 0.9466666666666667, 'cluster_idx': 0},\n",
              " 20: {'accuracy': 0.9533333333333334, 'cluster_idx': 4},\n",
              " 21: {'accuracy': 0.9333333333333332, 'cluster_idx': 4},\n",
              " 22: {'accuracy': 0.96, 'cluster_idx': 2},\n",
              " 23: {'accuracy': 0.9533333333333334, 'cluster_idx': 2},\n",
              " 24: {'accuracy': 0.9533333333333334, 'cluster_idx': 0},\n",
              " 25: {'accuracy': 0.9666666666666668, 'cluster_idx': 9},\n",
              " 26: {'accuracy': 0.9666666666666668, 'cluster_idx': 2},\n",
              " 27: {'accuracy': 0.9333333333333332, 'cluster_idx': 0},\n",
              " 28: {'accuracy': 0.9533333333333334, 'cluster_idx': 9},\n",
              " 29: {'accuracy': 0.9533333333333334, 'cluster_idx': 2},\n",
              " 30: {'accuracy': 0.9466666666666667, 'cluster_idx': 9},\n",
              " 31: {'accuracy': 0.9400000000000001, 'cluster_idx': 9},\n",
              " 32: {'accuracy': 0.9333333333333333, 'cluster_idx': 5},\n",
              " 33: {'accuracy': 0.9400000000000001, 'cluster_idx': 2},\n",
              " 34: {'accuracy': 0.9400000000000001, 'cluster_idx': 5},\n",
              " 35: {'accuracy': 0.9666666666666668, 'cluster_idx': 0},\n",
              " 36: {'accuracy': 0.9133333333333334, 'cluster_idx': 5},\n",
              " 37: {'accuracy': 0.9466666666666667, 'cluster_idx': 8},\n",
              " 38: {'accuracy': 0.96, 'cluster_idx': 1},\n",
              " 39: {'accuracy': 0.9600000000000002, 'cluster_idx': 2},\n",
              " 40: {'accuracy': 0.9266666666666667, 'cluster_idx': 8},\n",
              " 41: {'accuracy': 0.9400000000000001, 'cluster_idx': 4},\n",
              " 42: {'accuracy': 0.9666666666666668, 'cluster_idx': 1},\n",
              " 43: {'accuracy': 0.9199999999999999, 'cluster_idx': 5},\n",
              " 44: {'accuracy': 0.9533333333333334, 'cluster_idx': 0},\n",
              " 45: {'accuracy': 0.9600000000000002, 'cluster_idx': 0},\n",
              " 46: {'accuracy': 0.9466666666666667, 'cluster_idx': 5},\n",
              " 47: {'accuracy': 0.9666666666666668, 'cluster_idx': 9},\n",
              " 48: {'accuracy': 0.9533333333333334, 'cluster_idx': 3},\n",
              " 49: {'accuracy': 0.9533333333333334, 'cluster_idx': 9},\n",
              " 50: {'accuracy': 0.96, 'cluster_idx': 7},\n",
              " 51: {'accuracy': 0.96, 'cluster_idx': 7},\n",
              " 52: {'accuracy': 0.9400000000000001, 'cluster_idx': 5},\n",
              " 53: {'accuracy': 0.9533333333333334, 'cluster_idx': 2},\n",
              " 54: {'accuracy': 0.9533333333333334, 'cluster_idx': 9},\n",
              " 55: {'accuracy': 0.9466666666666667, 'cluster_idx': 6},\n",
              " 56: {'accuracy': 0.9533333333333334, 'cluster_idx': 4},\n",
              " 57: {'accuracy': 0.96, 'cluster_idx': 2},\n",
              " 58: {'accuracy': 0.9400000000000001, 'cluster_idx': 5},\n",
              " 59: {'accuracy': 0.9400000000000001, 'cluster_idx': 5},\n",
              " 60: {'accuracy': 0.96, 'cluster_idx': 4},\n",
              " 61: {'accuracy': 0.9666666666666668, 'cluster_idx': 4},\n",
              " 62: {'accuracy': 0.96, 'cluster_idx': 4},\n",
              " 63: {'accuracy': 0.9666666666666668, 'cluster_idx': 2},\n",
              " 64: {'accuracy': 0.9533333333333334, 'cluster_idx': 2},\n",
              " 65: {'accuracy': 0.9533333333333334, 'cluster_idx': 1},\n",
              " 66: {'accuracy': 0.96, 'cluster_idx': 2},\n",
              " 67: {'accuracy': 0.9266666666666667, 'cluster_idx': 9},\n",
              " 68: {'accuracy': 0.9666666666666668, 'cluster_idx': 4},\n",
              " 69: {'accuracy': 0.9533333333333334, 'cluster_idx': 4},\n",
              " 70: {'accuracy': 0.9266666666666667, 'cluster_idx': 9},\n",
              " 71: {'accuracy': 0.9533333333333334, 'cluster_idx': 6},\n",
              " 72: {'accuracy': 0.9666666666666666, 'cluster_idx': 2},\n",
              " 73: {'accuracy': 0.9333333333333332, 'cluster_idx': 4},\n",
              " 74: {'accuracy': 0.9466666666666667, 'cluster_idx': 5},\n",
              " 75: {'accuracy': 0.9600000000000002, 'cluster_idx': 5},\n",
              " 76: {'accuracy': 0.9533333333333334, 'cluster_idx': 2},\n",
              " 77: {'accuracy': 0.9666666666666668, 'cluster_idx': 2},\n",
              " 78: {'accuracy': 0.9533333333333334, 'cluster_idx': 2},\n",
              " 79: {'accuracy': 0.9333333333333333, 'cluster_idx': 9},\n",
              " 80: {'accuracy': 0.9333333333333333, 'cluster_idx': 5},\n",
              " 81: {'accuracy': 0.9600000000000002, 'cluster_idx': 6},\n",
              " 82: {'accuracy': 0.9533333333333334, 'cluster_idx': 5},\n",
              " 83: {'accuracy': 0.9533333333333334, 'cluster_idx': 9},\n",
              " 84: {'accuracy': 0.9466666666666667, 'cluster_idx': 5},\n",
              " 85: {'accuracy': 0.9400000000000001, 'cluster_idx': 1},\n",
              " 86: {'accuracy': 0.9333333333333332, 'cluster_idx': 9},\n",
              " 87: {'accuracy': 0.9466666666666667, 'cluster_idx': 0},\n",
              " 88: {'accuracy': 0.9533333333333334, 'cluster_idx': 2},\n",
              " 89: {'accuracy': 0.9400000000000001, 'cluster_idx': 5},\n",
              " 90: {'accuracy': 0.9600000000000002, 'cluster_idx': 4},\n",
              " 91: {'accuracy': 0.9533333333333334, 'cluster_idx': 9},\n",
              " 92: {'accuracy': 0.9666666666666668, 'cluster_idx': 3},\n",
              " 93: {'accuracy': 0.9333333333333332, 'cluster_idx': 7},\n",
              " 94: {'accuracy': 0.96, 'cluster_idx': 4},\n",
              " 95: {'accuracy': 0.96, 'cluster_idx': 2},\n",
              " 96: {'accuracy': 0.9266666666666667, 'cluster_idx': 0},\n",
              " 97: {'accuracy': 0.96, 'cluster_idx': 2},\n",
              " 98: {'accuracy': 0.96, 'cluster_idx': 1},\n",
              " 99: {'accuracy': 0.96, 'cluster_idx': 2}}"
            ]
          },
          "metadata": {},
          "execution_count": 16
        }
      ]
    },
    {
      "cell_type": "code",
      "execution_count": 17,
      "metadata": {
        "id": "6Y8_j6BElPT4",
        "colab": {
          "base_uri": "https://localhost:8080/"
        },
        "outputId": "089f2e0b-7883-4109-c7f7-04e46c7a5ea8"
      },
      "outputs": [
        {
          "output_type": "stream",
          "name": "stdout",
          "text": [
            "{'9': [25, 47], '8': [1], '2': [7, 26, 63, 77], '7': [50, 51], '5': [4], '4': [61, 68], '6': [81], '0': [35], '1': [42], '3': [92]}\n",
            "Selecting first maximum accuracy of a decision tree in each cluster:\n",
            "{'9': 25}\n",
            "{'8': 1}\n",
            "{'2': 7}\n",
            "{'7': 50}\n",
            "{'5': 4}\n",
            "{'4': 61}\n",
            "{'6': 81}\n",
            "{'0': 35}\n",
            "{'1': 42}\n",
            "{'3': 92}\n"
          ]
        },
        {
          "output_type": "execute_result",
          "data": {
            "text/plain": [
              "{'0': [35],\n",
              " '1': [42],\n",
              " '2': [7, 26, 63, 77],\n",
              " '3': [92],\n",
              " '4': [61, 68],\n",
              " '5': [4],\n",
              " '6': [81],\n",
              " '7': [50, 51],\n",
              " '8': [1],\n",
              " '9': [25, 47]}"
            ]
          },
          "metadata": {},
          "execution_count": 17
        }
      ],
      "source": [
        "#dbscan\n",
        "getMaxAccuracyCluster(prf1.info)"
      ]
    },
    {
      "cell_type": "code",
      "source": [
        "treeList = getTreeList(X, getMaxAccuracyCluster(prf1.info))\n",
        "\n",
        "y_preed = predict(X_test, treeList, prf1)\n",
        "\n",
        "print(\"final answer = \", y_preed)\n",
        "print(y_test)\n",
        "  \n",
        "print(\"Accuracy:\",metrics.accuracy_score(y_test, y_preed))"
      ],
      "metadata": {
        "id": "bX5EdMw-AXHc",
        "colab": {
          "base_uri": "https://localhost:8080/"
        },
        "outputId": "b09fe673-913b-4600-c874-c0a8843ef4ac"
      },
      "execution_count": 18,
      "outputs": [
        {
          "output_type": "stream",
          "name": "stdout",
          "text": [
            "{'9': [25, 47], '8': [1], '2': [7, 26, 63, 77], '7': [50, 51], '5': [4], '4': [61, 68], '6': [81], '0': [35], '1': [42], '3': [92]}\n",
            "Selecting first maximum accuracy of a decision tree in each cluster:\n",
            "{'9': 25}\n",
            "{'8': 1}\n",
            "{'2': 7}\n",
            "{'7': 50}\n",
            "{'5': 4}\n",
            "{'4': 61}\n",
            "{'6': 81}\n",
            "{'0': 35}\n",
            "{'1': 42}\n",
            "{'3': 92}\n",
            "[0. 0. 0. 2. 1. 1. 2. 0. 1. 2. 1. 1. 0. 1. 2. 1. 1. 1. 1. 2. 2. 2. 1. 2.\n",
            " 2. 1. 2. 1. 1. 1. 0. 0. 2. 0. 2. 1. 0. 2. 0. 2. 2. 1. 2. 2. 1.]\n",
            "[0. 0. 0. 2. 1. 1. 2. 0. 1. 2. 1. 1. 0. 1. 2. 1. 1. 1. 1. 2. 2. 2. 1. 2.\n",
            " 2. 1. 2. 1. 1. 1. 0. 0. 2. 0. 2. 1. 0. 2. 0. 2. 2. 1. 2. 2. 1.]\n",
            "[0. 0. 0. 2. 1. 1. 2. 0. 1. 2. 1. 1. 0. 1. 2. 1. 1. 1. 1. 2. 2. 2. 1. 2.\n",
            " 2. 1. 2. 1. 1. 1. 0. 0. 2. 0. 2. 1. 0. 2. 0. 2. 2. 1. 2. 1. 1.]\n",
            "[0. 0. 0. 2. 1. 1. 2. 1. 1. 2. 1. 1. 0. 1. 2. 1. 2. 1. 1. 2. 2. 2. 1. 2.\n",
            " 2. 1. 2. 1. 1. 1. 0. 0. 2. 0. 2. 1. 0. 2. 0. 2. 2. 1. 2. 2. 1.]\n",
            "[0. 0. 0. 2. 1. 1. 2. 0. 1. 2. 1. 1. 0. 1. 2. 1. 1. 1. 1. 2. 2. 2. 1. 2.\n",
            " 2. 1. 2. 1. 1. 1. 0. 0. 1. 0. 2. 1. 0. 2. 0. 2. 2. 1. 2. 2. 1.]\n",
            "[0. 0. 0. 2. 1. 1. 2. 0. 1. 2. 1. 1. 0. 1. 2. 1. 1. 1. 1. 2. 2. 2. 1. 2.\n",
            " 2. 1. 2. 1. 1. 1. 0. 0. 2. 0. 2. 1. 0. 2. 0. 2. 2. 1. 2. 1. 1.]\n",
            "[0. 0. 0. 2. 1. 1. 2. 0. 1. 2. 1. 1. 0. 1. 2. 2. 1. 1. 1. 2. 2. 1. 1. 2.\n",
            " 2. 1. 2. 1. 1. 1. 0. 0. 2. 0. 2. 1. 0. 2. 0. 2. 2. 1. 2. 1. 1.]\n",
            "[0. 0. 0. 2. 1. 1. 2. 0. 1. 2. 1. 1. 0. 1. 2. 1. 1. 1. 1. 2. 2. 2. 1. 2.\n",
            " 2. 1. 2. 1. 1. 1. 0. 0. 2. 0. 2. 1. 0. 2. 0. 2. 2. 1. 2. 2. 1.]\n",
            "[0. 0. 0. 2. 1. 1. 2. 0. 1. 2. 1. 1. 0. 1. 2. 1. 1. 1. 1. 2. 2. 2. 1. 2.\n",
            " 2. 1. 2. 1. 1. 1. 0. 0. 2. 0. 2. 1. 0. 2. 0. 2. 2. 1. 2. 2. 1.]\n",
            "[0. 0. 0. 2. 1. 1. 2. 0. 1. 2. 1. 1. 0. 1. 2. 1. 1. 1. 1. 2. 2. 2. 1. 2.\n",
            " 2. 1. 2. 1. 1. 1. 0. 0. 2. 0. 2. 1. 0. 2. 0. 2. 2. 1. 2. 1. 1.]\n",
            "<class 'list'>\n",
            "final answer =  [0.0, 0.0, 0.0, 2.0, 1.0, 1.0, 2.0, 0.0, 1.0, 2.0, 1.0, 1.0, 0.0, 1.0, 2.0, 1.0, 1.0, 1.0, 1.0, 2.0, 2.0, 2.0, 1.0, 2.0, 2.0, 1.0, 2.0, 1.0, 1.0, 1.0, 0.0, 0.0, 2.0, 0.0, 2.0, 1.0, 0.0, 2.0, 0.0, 2.0, 2.0, 1.0, 2.0, 2.0, 1.0]\n",
            "[0 0 0 2 1 1 2 0 1 2 1 1 0 1 2 1 1 1 1 2 2 2 1 2 2 1 2 1 1 1 0 0 2 0 2 1 0\n",
            " 2 0 2 2 1 2 2 1]\n",
            "Accuracy: 1.0\n"
          ]
        }
      ]
    },
    {
      "cell_type": "markdown",
      "source": [
        "sample->output(class label)\n",
        "\n",
        "list of samples(vectors)->list of classes-predicted ones\n",
        "\n",
        "actual values->target \n",
        "\n",
        "compare(target,predicted)->accuracy\n",
        "\n",
        "compare the accuracy of 100 trees using random forest and the accuracy of 6 trees formed in the end\n",
        "\n",
        "aprt from accuracy, most seperated distance between two decision trees in each cluster"
      ],
      "metadata": {
        "id": "fzXC7mFilL-B"
      }
    },
    {
      "cell_type": "code",
      "execution_count": 19,
      "metadata": {
        "id": "SMnACRQnjXhJ",
        "colab": {
          "base_uri": "https://localhost:8080/"
        },
        "outputId": "8681ece5-4217-4729-d9a7-5140fcf59f80"
      },
      "outputs": [
        {
          "output_type": "execute_result",
          "data": {
            "text/plain": [
              "{0: {'accuracy': 0.9466666666666667, 'cluster_idx': 8},\n",
              " 1: {'accuracy': 0.9466666666666667, 'cluster_idx': 7},\n",
              " 2: {'accuracy': 0.9400000000000001, 'cluster_idx': 8},\n",
              " 3: {'accuracy': 0.9533333333333334, 'cluster_idx': 0},\n",
              " 4: {'accuracy': 0.9466666666666667, 'cluster_idx': 8},\n",
              " 5: {'accuracy': 0.9466666666666667, 'cluster_idx': 6},\n",
              " 6: {'accuracy': 0.9533333333333334, 'cluster_idx': 1},\n",
              " 7: {'accuracy': 0.9600000000000002, 'cluster_idx': 2},\n",
              " 8: {'accuracy': 0.9400000000000001, 'cluster_idx': 8},\n",
              " 9: {'accuracy': 0.9533333333333334, 'cluster_idx': 2},\n",
              " 10: {'accuracy': 0.9533333333333334, 'cluster_idx': 1},\n",
              " 11: {'accuracy': 0.9399999999999998, 'cluster_idx': 1},\n",
              " 12: {'accuracy': 0.9466666666666667, 'cluster_idx': 8},\n",
              " 13: {'accuracy': 0.9333333333333332, 'cluster_idx': 1},\n",
              " 14: {'accuracy': 0.96, 'cluster_idx': 2},\n",
              " 15: {'accuracy': 0.9600000000000002, 'cluster_idx': 1},\n",
              " 16: {'accuracy': 0.9666666666666668, 'cluster_idx': 2},\n",
              " 17: {'accuracy': 0.9733333333333334, 'cluster_idx': 2},\n",
              " 18: {'accuracy': 0.9400000000000001, 'cluster_idx': 7},\n",
              " 19: {'accuracy': 0.9533333333333334, 'cluster_idx': 9},\n",
              " 20: {'accuracy': 0.9466666666666667, 'cluster_idx': 3},\n",
              " 21: {'accuracy': 0.96, 'cluster_idx': 9},\n",
              " 22: {'accuracy': 0.9466666666666667, 'cluster_idx': 2},\n",
              " 23: {'accuracy': 0.9466666666666667, 'cluster_idx': 1},\n",
              " 24: {'accuracy': 0.9266666666666667, 'cluster_idx': 1},\n",
              " 25: {'accuracy': 0.96, 'cluster_idx': 2},\n",
              " 26: {'accuracy': 0.96, 'cluster_idx': 3},\n",
              " 27: {'accuracy': 0.9399999999999998, 'cluster_idx': 8},\n",
              " 28: {'accuracy': 0.9466666666666667, 'cluster_idx': 3},\n",
              " 29: {'accuracy': 0.9400000000000001, 'cluster_idx': 5},\n",
              " 30: {'accuracy': 0.9400000000000001, 'cluster_idx': 1},\n",
              " 31: {'accuracy': 0.9333333333333332, 'cluster_idx': 2},\n",
              " 32: {'accuracy': 0.9333333333333332, 'cluster_idx': 4},\n",
              " 33: {'accuracy': 0.9533333333333334, 'cluster_idx': 2},\n",
              " 34: {'accuracy': 0.9666666666666668, 'cluster_idx': 7},\n",
              " 35: {'accuracy': 0.9666666666666668, 'cluster_idx': 2},\n",
              " 36: {'accuracy': 0.9533333333333334, 'cluster_idx': 3},\n",
              " 37: {'accuracy': 0.9600000000000002, 'cluster_idx': 3},\n",
              " 38: {'accuracy': 0.96, 'cluster_idx': 3},\n",
              " 39: {'accuracy': 0.9600000000000002, 'cluster_idx': 7},\n",
              " 40: {'accuracy': 0.9333333333333332, 'cluster_idx': 7},\n",
              " 41: {'accuracy': 0.9333333333333333, 'cluster_idx': 3},\n",
              " 42: {'accuracy': 0.9466666666666667, 'cluster_idx': 3},\n",
              " 43: {'accuracy': 0.9666666666666668, 'cluster_idx': 2},\n",
              " 44: {'accuracy': 0.9133333333333333, 'cluster_idx': 0},\n",
              " 45: {'accuracy': 0.9399999999999998, 'cluster_idx': 2},\n",
              " 46: {'accuracy': 0.9400000000000001, 'cluster_idx': 6},\n",
              " 47: {'accuracy': 0.9400000000000001, 'cluster_idx': 9},\n",
              " 48: {'accuracy': 0.9333333333333333, 'cluster_idx': 0},\n",
              " 49: {'accuracy': 0.9400000000000001, 'cluster_idx': 1},\n",
              " 50: {'accuracy': 0.9533333333333334, 'cluster_idx': 3},\n",
              " 51: {'accuracy': 0.9600000000000002, 'cluster_idx': 7},\n",
              " 52: {'accuracy': 0.96, 'cluster_idx': 7},\n",
              " 53: {'accuracy': 0.9600000000000002, 'cluster_idx': 7},\n",
              " 54: {'accuracy': 0.9399999999999998, 'cluster_idx': 1},\n",
              " 55: {'accuracy': 0.9466666666666667, 'cluster_idx': 1},\n",
              " 56: {'accuracy': 0.9199999999999999, 'cluster_idx': 4},\n",
              " 57: {'accuracy': 0.9333333333333333, 'cluster_idx': 0},\n",
              " 58: {'accuracy': 0.9266666666666665, 'cluster_idx': 0},\n",
              " 59: {'accuracy': 0.9533333333333334, 'cluster_idx': 7},\n",
              " 60: {'accuracy': 0.9533333333333334, 'cluster_idx': 2},\n",
              " 61: {'accuracy': 0.96, 'cluster_idx': 4},\n",
              " 62: {'accuracy': 0.9333333333333333, 'cluster_idx': 7},\n",
              " 63: {'accuracy': 0.96, 'cluster_idx': 1},\n",
              " 64: {'accuracy': 0.9666666666666668, 'cluster_idx': 2},\n",
              " 65: {'accuracy': 0.9533333333333334, 'cluster_idx': 2},\n",
              " 66: {'accuracy': 0.9533333333333334, 'cluster_idx': 3},\n",
              " 67: {'accuracy': 0.9600000000000002, 'cluster_idx': 2},\n",
              " 68: {'accuracy': 0.9533333333333334, 'cluster_idx': 1},\n",
              " 69: {'accuracy': 0.9533333333333334, 'cluster_idx': 8},\n",
              " 70: {'accuracy': 0.9466666666666667, 'cluster_idx': 1},\n",
              " 71: {'accuracy': 0.9400000000000001, 'cluster_idx': 7},\n",
              " 72: {'accuracy': 0.9733333333333334, 'cluster_idx': 7},\n",
              " 73: {'accuracy': 0.9199999999999999, 'cluster_idx': 4},\n",
              " 74: {'accuracy': 0.9733333333333334, 'cluster_idx': 2},\n",
              " 75: {'accuracy': 0.9533333333333334, 'cluster_idx': 7},\n",
              " 76: {'accuracy': 0.9533333333333334, 'cluster_idx': 3},\n",
              " 77: {'accuracy': 0.96, 'cluster_idx': 2},\n",
              " 78: {'accuracy': 0.96, 'cluster_idx': 3},\n",
              " 79: {'accuracy': 0.9666666666666668, 'cluster_idx': 2},\n",
              " 80: {'accuracy': 0.9400000000000001, 'cluster_idx': 6},\n",
              " 81: {'accuracy': 0.96, 'cluster_idx': 7},\n",
              " 82: {'accuracy': 0.9466666666666667, 'cluster_idx': 1},\n",
              " 83: {'accuracy': 0.9533333333333334, 'cluster_idx': 1},\n",
              " 84: {'accuracy': 0.9466666666666667, 'cluster_idx': 6},\n",
              " 85: {'accuracy': 0.9533333333333334, 'cluster_idx': 3},\n",
              " 86: {'accuracy': 0.9600000000000002, 'cluster_idx': 7},\n",
              " 87: {'accuracy': 0.9466666666666667, 'cluster_idx': 1},\n",
              " 88: {'accuracy': 0.9666666666666668, 'cluster_idx': 2},\n",
              " 89: {'accuracy': 0.9533333333333334, 'cluster_idx': 7},\n",
              " 90: {'accuracy': 0.9266666666666667, 'cluster_idx': 3},\n",
              " 91: {'accuracy': 0.9333333333333333, 'cluster_idx': 1},\n",
              " 92: {'accuracy': 0.9400000000000001, 'cluster_idx': 2},\n",
              " 93: {'accuracy': 0.96, 'cluster_idx': 8},\n",
              " 94: {'accuracy': 0.9533333333333334, 'cluster_idx': 3},\n",
              " 95: {'accuracy': 0.9466666666666667, 'cluster_idx': 2},\n",
              " 96: {'accuracy': 0.9400000000000001, 'cluster_idx': 7},\n",
              " 97: {'accuracy': 0.9466666666666667, 'cluster_idx': 9},\n",
              " 98: {'accuracy': 0.9533333333333334, 'cluster_idx': 7},\n",
              " 99: {'accuracy': 0.9533333333333334, 'cluster_idx': 3}}"
            ]
          },
          "metadata": {},
          "execution_count": 19
        }
      ],
      "source": [
        "prf2.info"
      ]
    },
    {
      "cell_type": "code",
      "source": [
        "#agglo\n",
        "getMaxAccuracyCluster(prf2.info)"
      ],
      "metadata": {
        "id": "jhUn1XQrixZ8",
        "colab": {
          "base_uri": "https://localhost:8080/"
        },
        "outputId": "826df3c2-fd39-4201-acd5-96a08ae0e0e6"
      },
      "execution_count": 20,
      "outputs": [
        {
          "output_type": "stream",
          "name": "stdout",
          "text": [
            "{'8': [93], '7': [72], '0': [3], '6': [5, 84], '1': [15], '2': [17, 74], '9': [21], '3': [37], '5': [29], '4': [61]}\n",
            "Selecting first maximum accuracy of a decision tree in each cluster:\n",
            "{'8': 93}\n",
            "{'7': 72}\n",
            "{'0': 3}\n",
            "{'6': 5}\n",
            "{'1': 15}\n",
            "{'2': 17}\n",
            "{'9': 21}\n",
            "{'3': 37}\n",
            "{'5': 29}\n",
            "{'4': 61}\n"
          ]
        },
        {
          "output_type": "execute_result",
          "data": {
            "text/plain": [
              "{'0': [3],\n",
              " '1': [15],\n",
              " '2': [17, 74],\n",
              " '3': [37],\n",
              " '4': [61],\n",
              " '5': [29],\n",
              " '6': [5, 84],\n",
              " '7': [72],\n",
              " '8': [93],\n",
              " '9': [21]}"
            ]
          },
          "metadata": {},
          "execution_count": 20
        }
      ]
    },
    {
      "cell_type": "code",
      "source": [
        "treeList = getTreeList(X, getMaxAccuracyCluster(prf2.info))\n",
        "\n",
        "y_preed = predict(X_test, treeList, prf2)\n",
        "\n",
        "print(\"final answer = \", y_preed)\n",
        "print(y_test)\n",
        "  \n",
        "print(\"Accuracy:\",metrics.accuracy_score(y_test, y_preed))"
      ],
      "metadata": {
        "colab": {
          "base_uri": "https://localhost:8080/"
        },
        "id": "mfW-cEyypXHa",
        "outputId": "c26ba027-c74e-4756-99b0-c4d09e173a8a"
      },
      "execution_count": 21,
      "outputs": [
        {
          "output_type": "stream",
          "name": "stdout",
          "text": [
            "{'8': [93], '7': [72], '0': [3], '6': [5, 84], '1': [15], '2': [17, 74], '9': [21], '3': [37], '5': [29], '4': [61]}\n",
            "Selecting first maximum accuracy of a decision tree in each cluster:\n",
            "{'8': 93}\n",
            "{'7': 72}\n",
            "{'0': 3}\n",
            "{'6': 5}\n",
            "{'1': 15}\n",
            "{'2': 17}\n",
            "{'9': 21}\n",
            "{'3': 37}\n",
            "{'5': 29}\n",
            "{'4': 61}\n",
            "[0. 0. 0. 2. 1. 1. 2. 0. 1. 2. 1. 1. 0. 1. 2. 1. 1. 1. 1. 2. 2. 2. 1. 2.\n",
            " 2. 1. 2. 1. 1. 1. 0. 0. 2. 0. 2. 1. 0. 2. 0. 2. 2. 1. 2. 1. 1.]\n",
            "[0. 0. 0. 2. 1. 1. 2. 0. 1. 2. 1. 1. 0. 1. 2. 1. 1. 1. 1. 2. 2. 2. 1. 2.\n",
            " 2. 1. 2. 1. 1. 1. 0. 0. 2. 0. 2. 1. 0. 2. 0. 2. 2. 1. 2. 2. 1.]\n",
            "[0. 0. 0. 2. 1. 1. 2. 0. 1. 2. 1. 1. 0. 1. 2. 1. 1. 1. 1. 2. 2. 2. 1. 2.\n",
            " 2. 1. 2. 1. 1. 1. 0. 0. 2. 0. 2. 1. 0. 2. 0. 2. 2. 1. 2. 2. 1.]\n",
            "[0. 0. 0. 2. 1. 1. 2. 0. 1. 2. 1. 1. 0. 2. 2. 1. 1. 1. 1. 2. 2. 2. 1. 2.\n",
            " 2. 1. 2. 1. 2. 1. 0. 0. 2. 0. 2. 1. 0. 1. 0. 2. 2. 1. 2. 2. 1.]\n",
            "[0. 0. 0. 2. 1. 1. 2. 0. 1. 2. 1. 1. 0. 1. 2. 1. 1. 1. 1. 2. 2. 2. 1. 2.\n",
            " 2. 1. 2. 1. 1. 1. 0. 0. 2. 0. 2. 1. 0. 2. 0. 2. 2. 1. 2. 2. 1.]\n",
            "[0. 0. 0. 2. 1. 1. 2. 0. 1. 2. 1. 1. 0. 1. 2. 1. 1. 1. 1. 2. 2. 2. 1. 2.\n",
            " 2. 1. 2. 1. 1. 1. 0. 0. 2. 0. 2. 1. 0. 2. 0. 2. 2. 1. 2. 2. 1.]\n",
            "[0. 0. 0. 2. 1. 1. 2. 0. 1. 2. 1. 1. 0. 1. 2. 1. 1. 1. 1. 2. 2. 2. 1. 2.\n",
            " 2. 1. 2. 1. 1. 1. 0. 0. 2. 0. 2. 1. 0. 2. 0. 2. 2. 1. 2. 2. 1.]\n",
            "[0. 0. 0. 2. 1. 1. 2. 0. 1. 2. 1. 1. 0. 1. 2. 1. 1. 1. 1. 2. 2. 2. 1. 2.\n",
            " 2. 1. 2. 1. 1. 1. 0. 0. 2. 0. 2. 1. 0. 2. 0. 2. 2. 1. 2. 2. 1.]\n",
            "[0. 0. 0. 2. 1. 1. 2. 0. 1. 2. 1. 1. 0. 1. 2. 1. 1. 1. 1. 2. 2. 2. 1. 2.\n",
            " 2. 1. 2. 1. 1. 1. 0. 0. 2. 0. 2. 1. 0. 2. 0. 2. 2. 1. 2. 1. 1.]\n",
            "[0. 0. 0. 2. 1. 1. 2. 0. 1. 2. 1. 1. 0. 1. 2. 1. 1. 1. 1. 2. 2. 2. 1. 2.\n",
            " 2. 1. 2. 1. 1. 1. 0. 0. 2. 0. 2. 1. 0. 2. 0. 2. 2. 1. 2. 2. 1.]\n",
            "<class 'list'>\n",
            "final answer =  [0.0, 0.0, 0.0, 2.0, 1.0, 1.0, 2.0, 0.0, 1.0, 2.0, 1.0, 1.0, 0.0, 1.0, 2.0, 1.0, 1.0, 1.0, 1.0, 2.0, 2.0, 2.0, 1.0, 2.0, 2.0, 1.0, 2.0, 1.0, 1.0, 1.0, 0.0, 0.0, 2.0, 0.0, 2.0, 1.0, 0.0, 2.0, 0.0, 2.0, 2.0, 1.0, 2.0, 2.0, 1.0]\n",
            "[0 0 0 2 1 1 2 0 1 2 1 1 0 1 2 1 1 1 1 2 2 2 1 2 2 1 2 1 1 1 0 0 2 0 2 1 0\n",
            " 2 0 2 2 1 2 2 1]\n",
            "Accuracy: 1.0\n"
          ]
        }
      ]
    },
    {
      "cell_type": "code",
      "execution_count": 22,
      "metadata": {
        "id": "OeWPHBJSjZND",
        "colab": {
          "base_uri": "https://localhost:8080/"
        },
        "outputId": "b8a50501-16ec-4dc0-8e73-917471e258c2"
      },
      "outputs": [
        {
          "output_type": "execute_result",
          "data": {
            "text/plain": [
              "{0: {'accuracy': 0.9333333333333332, 'cluster_idx': 8},\n",
              " 1: {'accuracy': 0.9666666666666668, 'cluster_idx': 6},\n",
              " 2: {'accuracy': 0.9333333333333333, 'cluster_idx': 6},\n",
              " 3: {'accuracy': 0.9666666666666668, 'cluster_idx': 0},\n",
              " 4: {'accuracy': 0.9333333333333332, 'cluster_idx': 0},\n",
              " 5: {'accuracy': 0.9666666666666668, 'cluster_idx': 0},\n",
              " 6: {'accuracy': 0.9533333333333334, 'cluster_idx': 1},\n",
              " 7: {'accuracy': 0.9400000000000001, 'cluster_idx': 3},\n",
              " 8: {'accuracy': 0.9400000000000001, 'cluster_idx': 7},\n",
              " 9: {'accuracy': 0.9600000000000002, 'cluster_idx': 1},\n",
              " 10: {'accuracy': 0.9600000000000002, 'cluster_idx': 1},\n",
              " 11: {'accuracy': 0.9133333333333333, 'cluster_idx': 5},\n",
              " 12: {'accuracy': 0.9333333333333333, 'cluster_idx': 4},\n",
              " 13: {'accuracy': 0.9466666666666667, 'cluster_idx': 4},\n",
              " 14: {'accuracy': 0.9466666666666667, 'cluster_idx': 0},\n",
              " 15: {'accuracy': 0.9266666666666665, 'cluster_idx': 3},\n",
              " 16: {'accuracy': 0.9733333333333334, 'cluster_idx': 3},\n",
              " 17: {'accuracy': 0.9466666666666667, 'cluster_idx': 4},\n",
              " 18: {'accuracy': 0.9466666666666667, 'cluster_idx': 1},\n",
              " 19: {'accuracy': 0.9466666666666667, 'cluster_idx': 8},\n",
              " 20: {'accuracy': 0.9400000000000001, 'cluster_idx': 6},\n",
              " 21: {'accuracy': 0.9333333333333333, 'cluster_idx': 4},\n",
              " 22: {'accuracy': 0.9600000000000002, 'cluster_idx': 4},\n",
              " 23: {'accuracy': 0.9266666666666665, 'cluster_idx': 1},\n",
              " 24: {'accuracy': 0.9400000000000001, 'cluster_idx': 3},\n",
              " 25: {'accuracy': 0.9333333333333332, 'cluster_idx': 0},\n",
              " 26: {'accuracy': 0.9533333333333334, 'cluster_idx': 1},\n",
              " 27: {'accuracy': 0.96, 'cluster_idx': 2},\n",
              " 28: {'accuracy': 0.96, 'cluster_idx': 4},\n",
              " 29: {'accuracy': 0.9600000000000002, 'cluster_idx': 1},\n",
              " 30: {'accuracy': 0.9333333333333332, 'cluster_idx': 0},\n",
              " 31: {'accuracy': 0.9666666666666668, 'cluster_idx': 4},\n",
              " 32: {'accuracy': 0.96, 'cluster_idx': 4},\n",
              " 33: {'accuracy': 0.9333333333333332, 'cluster_idx': 0},\n",
              " 34: {'accuracy': 0.9333333333333332, 'cluster_idx': 8},\n",
              " 35: {'accuracy': 0.9466666666666667, 'cluster_idx': 4},\n",
              " 36: {'accuracy': 0.9466666666666667, 'cluster_idx': 1},\n",
              " 37: {'accuracy': 0.9533333333333334, 'cluster_idx': 1},\n",
              " 38: {'accuracy': 0.9666666666666668, 'cluster_idx': 1},\n",
              " 39: {'accuracy': 0.9466666666666667, 'cluster_idx': 8},\n",
              " 40: {'accuracy': 0.9466666666666667, 'cluster_idx': 3},\n",
              " 41: {'accuracy': 0.9400000000000001, 'cluster_idx': 9},\n",
              " 42: {'accuracy': 0.9466666666666667, 'cluster_idx': 5},\n",
              " 43: {'accuracy': 0.96, 'cluster_idx': 0},\n",
              " 44: {'accuracy': 0.9266666666666665, 'cluster_idx': 0},\n",
              " 45: {'accuracy': 0.9466666666666667, 'cluster_idx': 4},\n",
              " 46: {'accuracy': 0.9466666666666667, 'cluster_idx': 6},\n",
              " 47: {'accuracy': 0.9466666666666667, 'cluster_idx': 4},\n",
              " 48: {'accuracy': 0.96, 'cluster_idx': 3},\n",
              " 49: {'accuracy': 0.96, 'cluster_idx': 5},\n",
              " 50: {'accuracy': 0.9466666666666667, 'cluster_idx': 4},\n",
              " 51: {'accuracy': 0.9466666666666667, 'cluster_idx': 3},\n",
              " 52: {'accuracy': 0.9533333333333334, 'cluster_idx': 4},\n",
              " 53: {'accuracy': 0.9600000000000002, 'cluster_idx': 4},\n",
              " 54: {'accuracy': 0.9733333333333334, 'cluster_idx': 0},\n",
              " 55: {'accuracy': 0.9199999999999999, 'cluster_idx': 1},\n",
              " 56: {'accuracy': 0.9533333333333334, 'cluster_idx': 6},\n",
              " 57: {'accuracy': 0.9266666666666665, 'cluster_idx': 6},\n",
              " 58: {'accuracy': 0.9533333333333334, 'cluster_idx': 3},\n",
              " 59: {'accuracy': 0.9533333333333334, 'cluster_idx': 2},\n",
              " 60: {'accuracy': 0.9533333333333334, 'cluster_idx': 0},\n",
              " 61: {'accuracy': 0.9533333333333334, 'cluster_idx': 8},\n",
              " 62: {'accuracy': 0.9600000000000002, 'cluster_idx': 1},\n",
              " 63: {'accuracy': 0.9666666666666668, 'cluster_idx': 1},\n",
              " 64: {'accuracy': 0.9466666666666667, 'cluster_idx': 4},\n",
              " 65: {'accuracy': 0.96, 'cluster_idx': 0},\n",
              " 66: {'accuracy': 0.9600000000000002, 'cluster_idx': 1},\n",
              " 67: {'accuracy': 0.9333333333333333, 'cluster_idx': 4},\n",
              " 68: {'accuracy': 0.9466666666666667, 'cluster_idx': 0},\n",
              " 69: {'accuracy': 0.9466666666666667, 'cluster_idx': 4},\n",
              " 70: {'accuracy': 0.9, 'cluster_idx': 2},\n",
              " 71: {'accuracy': 0.9533333333333334, 'cluster_idx': 2},\n",
              " 72: {'accuracy': 0.9533333333333334, 'cluster_idx': 6},\n",
              " 73: {'accuracy': 0.9333333333333333, 'cluster_idx': 4},\n",
              " 74: {'accuracy': 0.96, 'cluster_idx': 7},\n",
              " 75: {'accuracy': 0.9533333333333334, 'cluster_idx': 1},\n",
              " 76: {'accuracy': 0.9533333333333334, 'cluster_idx': 3},\n",
              " 77: {'accuracy': 0.9399999999999998, 'cluster_idx': 5},\n",
              " 78: {'accuracy': 0.9533333333333334, 'cluster_idx': 1},\n",
              " 79: {'accuracy': 0.96, 'cluster_idx': 0},\n",
              " 80: {'accuracy': 0.9333333333333333, 'cluster_idx': 2},\n",
              " 81: {'accuracy': 0.9266666666666667, 'cluster_idx': 4},\n",
              " 82: {'accuracy': 0.9533333333333334, 'cluster_idx': 7},\n",
              " 83: {'accuracy': 0.96, 'cluster_idx': 7},\n",
              " 84: {'accuracy': 0.9400000000000001, 'cluster_idx': 6},\n",
              " 85: {'accuracy': 0.9066666666666666, 'cluster_idx': 0},\n",
              " 86: {'accuracy': 0.96, 'cluster_idx': 8},\n",
              " 87: {'accuracy': 0.9266666666666665, 'cluster_idx': 1},\n",
              " 88: {'accuracy': 0.96, 'cluster_idx': 7},\n",
              " 89: {'accuracy': 0.9533333333333334, 'cluster_idx': 1},\n",
              " 90: {'accuracy': 0.9333333333333332, 'cluster_idx': 2},\n",
              " 91: {'accuracy': 0.9200000000000002, 'cluster_idx': 5},\n",
              " 92: {'accuracy': 0.96, 'cluster_idx': 3},\n",
              " 93: {'accuracy': 0.9399999999999998, 'cluster_idx': 3},\n",
              " 94: {'accuracy': 0.9533333333333334, 'cluster_idx': 9},\n",
              " 95: {'accuracy': 0.9533333333333334, 'cluster_idx': 3},\n",
              " 96: {'accuracy': 0.9533333333333334, 'cluster_idx': 3},\n",
              " 97: {'accuracy': 0.9400000000000001, 'cluster_idx': 7},\n",
              " 98: {'accuracy': 0.9533333333333334, 'cluster_idx': 1},\n",
              " 99: {'accuracy': 0.9466666666666667, 'cluster_idx': 3}}"
            ]
          },
          "metadata": {},
          "execution_count": 22
        }
      ],
      "source": [
        "prf3.info"
      ]
    },
    {
      "cell_type": "code",
      "source": [
        "#gaussian\n",
        "getMaxAccuracyCluster(prf3.info)"
      ],
      "metadata": {
        "id": "CS_NFfLxjuka",
        "colab": {
          "base_uri": "https://localhost:8080/"
        },
        "outputId": "0e7fdd20-0004-4669-c9f0-38595a0f578b"
      },
      "execution_count": 23,
      "outputs": [
        {
          "output_type": "stream",
          "name": "stdout",
          "text": [
            "{'8': [86], '6': [1], '0': [54], '1': [38, 63], '3': [16], '7': [74, 83, 88], '5': [49], '4': [31], '2': [27], '9': [94]}\n",
            "Selecting first maximum accuracy of a decision tree in each cluster:\n",
            "{'8': 86}\n",
            "{'6': 1}\n",
            "{'0': 54}\n",
            "{'1': 38}\n",
            "{'3': 16}\n",
            "{'7': 74}\n",
            "{'5': 49}\n",
            "{'4': 31}\n",
            "{'2': 27}\n",
            "{'9': 94}\n"
          ]
        },
        {
          "output_type": "execute_result",
          "data": {
            "text/plain": [
              "{'0': [54],\n",
              " '1': [38, 63],\n",
              " '2': [27],\n",
              " '3': [16],\n",
              " '4': [31],\n",
              " '5': [49],\n",
              " '6': [1],\n",
              " '7': [74, 83, 88],\n",
              " '8': [86],\n",
              " '9': [94]}"
            ]
          },
          "metadata": {},
          "execution_count": 23
        }
      ]
    },
    {
      "cell_type": "code",
      "source": [
        "treeList = getTreeList(X, getMaxAccuracyCluster(prf3.info))\n",
        "\n",
        "y_preed = predict(X_test, treeList, prf3)\n",
        "\n",
        "print(\"final answer = \", y_preed)\n",
        "print(y_test)\n",
        "  \n",
        "print(\"Accuracy:\",metrics.accuracy_score(y_test, y_preed))"
      ],
      "metadata": {
        "colab": {
          "base_uri": "https://localhost:8080/"
        },
        "id": "EwdUtiQNpfoi",
        "outputId": "4ffb307c-377a-4a9c-9f31-0fb0b4a683fb"
      },
      "execution_count": 24,
      "outputs": [
        {
          "output_type": "stream",
          "name": "stdout",
          "text": [
            "{'8': [86], '6': [1], '0': [54], '1': [38, 63], '3': [16], '7': [74, 83, 88], '5': [49], '4': [31], '2': [27], '9': [94]}\n",
            "Selecting first maximum accuracy of a decision tree in each cluster:\n",
            "{'8': 86}\n",
            "{'6': 1}\n",
            "{'0': 54}\n",
            "{'1': 38}\n",
            "{'3': 16}\n",
            "{'7': 74}\n",
            "{'5': 49}\n",
            "{'4': 31}\n",
            "{'2': 27}\n",
            "{'9': 94}\n",
            "[0. 0. 0. 2. 1. 1. 2. 0. 1. 2. 1. 1. 0. 1. 2. 1. 2. 1. 1. 2. 2. 2. 1. 2.\n",
            " 2. 1. 2. 1. 1. 1. 0. 0. 2. 0. 2. 1. 0. 2. 0. 2. 2. 1. 2. 2. 1.]\n",
            "[0. 0. 0. 2. 1. 1. 2. 0. 1. 2. 1. 1. 0. 1. 2. 1. 2. 1. 1. 2. 2. 2. 1. 2.\n",
            " 2. 1. 2. 1. 1. 1. 0. 0. 2. 0. 2. 1. 0. 2. 0. 2. 2. 1. 2. 2. 1.]\n",
            "[0. 0. 0. 2. 1. 1. 2. 0. 1. 2. 1. 1. 0. 1. 2. 1. 1. 1. 1. 2. 2. 2. 1. 2.\n",
            " 2. 1. 2. 1. 1. 1. 0. 0. 2. 0. 2. 1. 0. 2. 0. 2. 2. 1. 2. 2. 1.]\n",
            "[0. 0. 0. 2. 1. 1. 2. 0. 1. 2. 1. 1. 0. 1. 2. 1. 1. 1. 1. 2. 2. 2. 1. 2.\n",
            " 2. 1. 2. 1. 1. 1. 0. 0. 2. 0. 2. 1. 0. 2. 0. 2. 2. 1. 2. 1. 1.]\n",
            "[0. 0. 0. 2. 1. 1. 2. 0. 1. 2. 1. 1. 0. 1. 2. 1. 1. 1. 1. 2. 2. 2. 1. 2.\n",
            " 2. 1. 2. 1. 1. 1. 0. 0. 2. 0. 2. 1. 0. 2. 0. 2. 2. 1. 2. 2. 1.]\n",
            "[0. 0. 0. 2. 1. 1. 2. 0. 1. 2. 1. 1. 0. 1. 2. 1. 1. 1. 1. 2. 2. 2. 1. 2.\n",
            " 2. 1. 2. 1. 1. 1. 0. 0. 2. 0. 2. 1. 0. 2. 0. 2. 2. 1. 2. 2. 1.]\n",
            "[0. 0. 0. 2. 1. 1. 2. 0. 1. 2. 1. 1. 0. 1. 2. 1. 1. 1. 1. 2. 2. 2. 1. 2.\n",
            " 2. 1. 2. 1. 1. 1. 0. 0. 2. 0. 2. 1. 0. 2. 0. 2. 2. 1. 2. 2. 1.]\n",
            "[0. 0. 0. 2. 1. 1. 2. 0. 1. 2. 1. 1. 0. 1. 2. 1. 2. 1. 1. 2. 2. 2. 1. 2.\n",
            " 2. 1. 2. 1. 1. 1. 0. 0. 2. 0. 2. 1. 0. 2. 0. 2. 2. 1. 2. 2. 1.]\n",
            "[0. 0. 0. 2. 1. 1. 2. 0. 1. 2. 0. 1. 0. 1. 2. 1. 1. 1. 1. 2. 2. 2. 0. 2.\n",
            " 2. 0. 2. 1. 1. 1. 0. 0. 2. 0. 2. 1. 0. 2. 0. 2. 2. 1. 2. 2. 1.]\n",
            "[0. 0. 0. 2. 1. 1. 2. 0. 1. 2. 1. 1. 0. 1. 2. 1. 2. 1. 1. 2. 2. 2. 1. 2.\n",
            " 2. 1. 2. 1. 1. 1. 0. 0. 2. 0. 2. 1. 0. 2. 0. 2. 2. 1. 2. 2. 1.]\n",
            "<class 'list'>\n",
            "final answer =  [0.0, 0.0, 0.0, 2.0, 1.0, 1.0, 2.0, 0.0, 1.0, 2.0, 1.0, 1.0, 0.0, 1.0, 2.0, 1.0, 1.0, 1.0, 1.0, 2.0, 2.0, 2.0, 1.0, 2.0, 2.0, 1.0, 2.0, 1.0, 1.0, 1.0, 0.0, 0.0, 2.0, 0.0, 2.0, 1.0, 0.0, 2.0, 0.0, 2.0, 2.0, 1.0, 2.0, 2.0, 1.0]\n",
            "[0 0 0 2 1 1 2 0 1 2 1 1 0 1 2 1 1 1 1 2 2 2 1 2 2 1 2 1 1 1 0 0 2 0 2 1 0\n",
            " 2 0 2 2 1 2 2 1]\n",
            "Accuracy: 1.0\n"
          ]
        }
      ]
    },
    {
      "cell_type": "code",
      "source": [
        "prf4.info"
      ],
      "metadata": {
        "id": "CKxUdRVjuIlG",
        "colab": {
          "base_uri": "https://localhost:8080/"
        },
        "outputId": "7d54d900-6856-4f66-8191-28f5d43e632b"
      },
      "execution_count": 25,
      "outputs": [
        {
          "output_type": "execute_result",
          "data": {
            "text/plain": [
              "{0: {'accuracy': 0.96, 'cluster_idx': 0},\n",
              " 1: {'accuracy': 0.9533333333333334, 'cluster_idx': 2},\n",
              " 2: {'accuracy': 0.9466666666666667, 'cluster_idx': 8},\n",
              " 3: {'accuracy': 0.9333333333333332, 'cluster_idx': 5},\n",
              " 4: {'accuracy': 0.9466666666666667, 'cluster_idx': 4},\n",
              " 5: {'accuracy': 0.9400000000000001, 'cluster_idx': 4},\n",
              " 6: {'accuracy': 0.9533333333333334, 'cluster_idx': 2},\n",
              " 7: {'accuracy': 0.9466666666666667, 'cluster_idx': 4},\n",
              " 8: {'accuracy': 0.9666666666666668, 'cluster_idx': 8},\n",
              " 9: {'accuracy': 0.9266666666666665, 'cluster_idx': 6},\n",
              " 10: {'accuracy': 0.9333333333333332, 'cluster_idx': 3},\n",
              " 11: {'accuracy': 0.9533333333333334, 'cluster_idx': 4},\n",
              " 12: {'accuracy': 0.9466666666666667, 'cluster_idx': 8},\n",
              " 13: {'accuracy': 0.9466666666666667, 'cluster_idx': 6},\n",
              " 14: {'accuracy': 0.9199999999999999, 'cluster_idx': 5},\n",
              " 15: {'accuracy': 0.9333333333333333, 'cluster_idx': 3},\n",
              " 16: {'accuracy': 0.9466666666666667, 'cluster_idx': 2},\n",
              " 17: {'accuracy': 0.9333333333333332, 'cluster_idx': 4},\n",
              " 18: {'accuracy': 0.96, 'cluster_idx': 3},\n",
              " 19: {'accuracy': 0.96, 'cluster_idx': 2},\n",
              " 20: {'accuracy': 0.9399999999999998, 'cluster_idx': 0},\n",
              " 21: {'accuracy': 0.9400000000000001, 'cluster_idx': 4},\n",
              " 22: {'accuracy': 0.9466666666666667, 'cluster_idx': 5},\n",
              " 23: {'accuracy': 0.9533333333333334, 'cluster_idx': 0},\n",
              " 24: {'accuracy': 0.9466666666666667, 'cluster_idx': 0},\n",
              " 25: {'accuracy': 0.9666666666666668, 'cluster_idx': 9},\n",
              " 26: {'accuracy': 0.9400000000000001, 'cluster_idx': 2},\n",
              " 27: {'accuracy': 0.9533333333333334, 'cluster_idx': 8},\n",
              " 28: {'accuracy': 0.96, 'cluster_idx': 0},\n",
              " 29: {'accuracy': 0.9266666666666665, 'cluster_idx': 3},\n",
              " 30: {'accuracy': 0.9600000000000002, 'cluster_idx': 8},\n",
              " 31: {'accuracy': 0.9266666666666665, 'cluster_idx': 6},\n",
              " 32: {'accuracy': 0.9533333333333334, 'cluster_idx': 4},\n",
              " 33: {'accuracy': 0.9666666666666666, 'cluster_idx': 8},\n",
              " 34: {'accuracy': 0.9400000000000001, 'cluster_idx': 5},\n",
              " 35: {'accuracy': 0.9466666666666667, 'cluster_idx': 5},\n",
              " 36: {'accuracy': 0.96, 'cluster_idx': 4},\n",
              " 37: {'accuracy': 0.9533333333333334, 'cluster_idx': 2},\n",
              " 38: {'accuracy': 0.9533333333333334, 'cluster_idx': 1},\n",
              " 39: {'accuracy': 0.9466666666666667, 'cluster_idx': 3},\n",
              " 40: {'accuracy': 0.9266666666666665, 'cluster_idx': 4},\n",
              " 41: {'accuracy': 0.9533333333333334, 'cluster_idx': 8},\n",
              " 42: {'accuracy': 0.9666666666666668, 'cluster_idx': 5},\n",
              " 43: {'accuracy': 0.9266666666666665, 'cluster_idx': 3},\n",
              " 44: {'accuracy': 0.9199999999999999, 'cluster_idx': 0},\n",
              " 45: {'accuracy': 0.9400000000000001, 'cluster_idx': 6},\n",
              " 46: {'accuracy': 0.9400000000000001, 'cluster_idx': 2},\n",
              " 47: {'accuracy': 0.9466666666666667, 'cluster_idx': 6},\n",
              " 48: {'accuracy': 0.9666666666666668, 'cluster_idx': 1},\n",
              " 49: {'accuracy': 0.9533333333333334, 'cluster_idx': 7},\n",
              " 50: {'accuracy': 0.96, 'cluster_idx': 4},\n",
              " 51: {'accuracy': 0.9066666666666666, 'cluster_idx': 2},\n",
              " 52: {'accuracy': 0.96, 'cluster_idx': 8},\n",
              " 53: {'accuracy': 0.9533333333333334, 'cluster_idx': 4},\n",
              " 54: {'accuracy': 0.9466666666666667, 'cluster_idx': 9},\n",
              " 55: {'accuracy': 0.9466666666666667, 'cluster_idx': 5},\n",
              " 56: {'accuracy': 0.9533333333333334, 'cluster_idx': 2},\n",
              " 57: {'accuracy': 0.9466666666666667, 'cluster_idx': 7},\n",
              " 58: {'accuracy': 0.9266666666666665, 'cluster_idx': 3},\n",
              " 59: {'accuracy': 0.9400000000000001, 'cluster_idx': 5},\n",
              " 60: {'accuracy': 0.9333333333333333, 'cluster_idx': 6},\n",
              " 61: {'accuracy': 0.9533333333333334, 'cluster_idx': 4},\n",
              " 62: {'accuracy': 0.9266666666666667, 'cluster_idx': 4},\n",
              " 63: {'accuracy': 0.9400000000000001, 'cluster_idx': 3},\n",
              " 64: {'accuracy': 0.9466666666666667, 'cluster_idx': 4},\n",
              " 65: {'accuracy': 0.9466666666666667, 'cluster_idx': 3},\n",
              " 66: {'accuracy': 0.9466666666666667, 'cluster_idx': 4},\n",
              " 67: {'accuracy': 0.9400000000000001, 'cluster_idx': 0},\n",
              " 68: {'accuracy': 0.9466666666666667, 'cluster_idx': 5},\n",
              " 69: {'accuracy': 0.9533333333333334, 'cluster_idx': 1},\n",
              " 70: {'accuracy': 0.9533333333333334, 'cluster_idx': 5},\n",
              " 71: {'accuracy': 0.9466666666666667, 'cluster_idx': 4},\n",
              " 72: {'accuracy': 0.96, 'cluster_idx': 2},\n",
              " 73: {'accuracy': 0.9533333333333334, 'cluster_idx': 8},\n",
              " 74: {'accuracy': 0.9333333333333333, 'cluster_idx': 3},\n",
              " 75: {'accuracy': 0.9600000000000002, 'cluster_idx': 0},\n",
              " 76: {'accuracy': 0.9199999999999999, 'cluster_idx': 5},\n",
              " 77: {'accuracy': 0.9600000000000002, 'cluster_idx': 1},\n",
              " 78: {'accuracy': 0.9333333333333332, 'cluster_idx': 8},\n",
              " 79: {'accuracy': 0.9466666666666665, 'cluster_idx': 3},\n",
              " 80: {'accuracy': 0.9466666666666667, 'cluster_idx': 3},\n",
              " 81: {'accuracy': 0.9533333333333334, 'cluster_idx': 8},\n",
              " 82: {'accuracy': 0.9600000000000002, 'cluster_idx': 2},\n",
              " 83: {'accuracy': 0.9333333333333333, 'cluster_idx': 4},\n",
              " 84: {'accuracy': 0.96, 'cluster_idx': 8},\n",
              " 85: {'accuracy': 0.9400000000000001, 'cluster_idx': 9},\n",
              " 86: {'accuracy': 0.9399999999999998, 'cluster_idx': 5},\n",
              " 87: {'accuracy': 0.9466666666666667, 'cluster_idx': 4},\n",
              " 88: {'accuracy': 0.9466666666666667, 'cluster_idx': 4},\n",
              " 89: {'accuracy': 0.9333333333333332, 'cluster_idx': 4},\n",
              " 90: {'accuracy': 0.9333333333333332, 'cluster_idx': 2},\n",
              " 91: {'accuracy': 0.9333333333333332, 'cluster_idx': 1},\n",
              " 92: {'accuracy': 0.9466666666666667, 'cluster_idx': 5},\n",
              " 93: {'accuracy': 0.9400000000000001, 'cluster_idx': 4},\n",
              " 94: {'accuracy': 0.9533333333333334, 'cluster_idx': 3},\n",
              " 95: {'accuracy': 0.9400000000000001, 'cluster_idx': 3},\n",
              " 96: {'accuracy': 0.96, 'cluster_idx': 5},\n",
              " 97: {'accuracy': 0.9600000000000002, 'cluster_idx': 3},\n",
              " 98: {'accuracy': 0.9200000000000002, 'cluster_idx': 4},\n",
              " 99: {'accuracy': 0.9333333333333332, 'cluster_idx': 8}}"
            ]
          },
          "metadata": {},
          "execution_count": 25
        }
      ]
    },
    {
      "cell_type": "code",
      "source": [
        "#spectral\n",
        "getMaxAccuracyCluster(prf4.info)"
      ],
      "metadata": {
        "id": "DR6fU8l7jzxK",
        "colab": {
          "base_uri": "https://localhost:8080/"
        },
        "outputId": "e67d88c7-c61a-41b7-dc9c-2de8bb6848f8"
      },
      "execution_count": 26,
      "outputs": [
        {
          "output_type": "stream",
          "name": "stdout",
          "text": [
            "{'0': [75], '2': [82], '8': [8], '5': [42], '4': [36, 50], '6': [13, 47], '3': [97], '9': [25], '1': [48], '7': [49]}\n",
            "Selecting first maximum accuracy of a decision tree in each cluster:\n",
            "{'0': 75}\n",
            "{'2': 82}\n",
            "{'8': 8}\n",
            "{'5': 42}\n",
            "{'4': 36}\n",
            "{'6': 13}\n",
            "{'3': 97}\n",
            "{'9': 25}\n",
            "{'1': 48}\n",
            "{'7': 49}\n"
          ]
        },
        {
          "output_type": "execute_result",
          "data": {
            "text/plain": [
              "{'0': [75],\n",
              " '1': [48],\n",
              " '2': [82],\n",
              " '3': [97],\n",
              " '4': [36, 50],\n",
              " '5': [42],\n",
              " '6': [13, 47],\n",
              " '7': [49],\n",
              " '8': [8],\n",
              " '9': [25]}"
            ]
          },
          "metadata": {},
          "execution_count": 26
        }
      ]
    },
    {
      "cell_type": "code",
      "source": [
        "treeList = getTreeList(X, getMaxAccuracyCluster(prf4.info))\n",
        "\n",
        "y_preed = predict(X_test, treeList, prf4)\n",
        "\n",
        "print(\"final answer = \", y_preed)\n",
        "print(y_test)\n",
        "  \n",
        "print(\"Accuracy:\",metrics.accuracy_score(y_test, y_preed))"
      ],
      "metadata": {
        "id": "aYLQ3qAf-n7S",
        "colab": {
          "base_uri": "https://localhost:8080/"
        },
        "outputId": "eccb17c4-dc3e-4aae-979b-f3205bb5a8e5"
      },
      "execution_count": 27,
      "outputs": [
        {
          "output_type": "stream",
          "name": "stdout",
          "text": [
            "{'0': [75], '2': [82], '8': [8], '5': [42], '4': [36, 50], '6': [13, 47], '3': [97], '9': [25], '1': [48], '7': [49]}\n",
            "Selecting first maximum accuracy of a decision tree in each cluster:\n",
            "{'0': 75}\n",
            "{'2': 82}\n",
            "{'8': 8}\n",
            "{'5': 42}\n",
            "{'4': 36}\n",
            "{'6': 13}\n",
            "{'3': 97}\n",
            "{'9': 25}\n",
            "{'1': 48}\n",
            "{'7': 49}\n",
            "[0. 0. 0. 2. 1. 1. 2. 0. 1. 2. 1. 1. 0. 1. 2. 1. 1. 1. 1. 2. 2. 2. 1. 2.\n",
            " 2. 1. 2. 1. 1. 1. 0. 0. 1. 0. 2. 1. 0. 2. 0. 2. 2. 1. 2. 2. 1.]\n",
            "[0. 0. 0. 2. 1. 1. 2. 0. 1. 2. 1. 1. 0. 1. 2. 1. 1. 1. 1. 2. 2. 2. 1. 2.\n",
            " 2. 1. 2. 1. 1. 1. 0. 0. 2. 0. 2. 1. 0. 2. 0. 2. 2. 1. 2. 2. 1.]\n",
            "[0. 0. 0. 2. 1. 1. 2. 0. 1. 2. 1. 1. 0. 1. 2. 1. 1. 1. 1. 2. 2. 2. 1. 2.\n",
            " 2. 1. 2. 1. 1. 1. 0. 0. 2. 0. 2. 1. 0. 2. 0. 2. 2. 1. 2. 2. 1.]\n",
            "[0. 0. 0. 2. 1. 1. 2. 0. 1. 2. 1. 1. 0. 1. 2. 1. 1. 1. 1. 2. 2. 2. 1. 2.\n",
            " 2. 1. 2. 1. 1. 1. 0. 0. 2. 0. 2. 1. 0. 2. 0. 2. 2. 1. 2. 2. 1.]\n",
            "[0. 0. 0. 2. 1. 1. 2. 0. 1. 2. 2. 1. 0. 1. 2. 1. 2. 1. 1. 2. 2. 2. 1. 2.\n",
            " 2. 1. 2. 1. 1. 1. 0. 0. 2. 0. 2. 1. 0. 2. 0. 2. 2. 1. 2. 2. 1.]\n",
            "[0. 0. 0. 2. 1. 1. 2. 0. 1. 2. 0. 1. 0. 1. 2. 1. 1. 1. 1. 2. 2. 2. 1. 2.\n",
            " 2. 1. 2. 1. 1. 1. 0. 0. 2. 0. 2. 1. 0. 2. 0. 2. 2. 1. 2. 1. 1.]\n",
            "[0. 0. 0. 2. 1. 1. 2. 0. 1. 2. 1. 1. 0. 1. 2. 1. 1. 1. 1. 2. 2. 2. 1. 2.\n",
            " 2. 1. 2. 1. 1. 1. 0. 0. 2. 0. 2. 1. 0. 2. 0. 2. 2. 1. 2. 2. 1.]\n",
            "[0. 0. 0. 2. 1. 1. 2. 0. 1. 2. 1. 1. 0. 1. 2. 1. 1. 1. 1. 2. 2. 2. 1. 2.\n",
            " 2. 1. 2. 1. 1. 1. 0. 0. 2. 0. 2. 1. 0. 2. 0. 2. 2. 1. 2. 1. 1.]\n",
            "[0. 0. 0. 2. 1. 1. 2. 0. 1. 2. 1. 1. 0. 1. 2. 1. 1. 1. 1. 2. 2. 2. 1. 2.\n",
            " 2. 1. 2. 1. 1. 1. 0. 0. 2. 0. 2. 1. 0. 2. 0. 2. 2. 1. 2. 2. 1.]\n",
            "[0. 0. 0. 2. 1. 1. 2. 1. 1. 2. 1. 1. 0. 1. 2. 1. 2. 1. 1. 2. 2. 2. 1. 2.\n",
            " 2. 1. 2. 1. 1. 1. 0. 0. 2. 0. 2. 1. 0. 2. 0. 2. 2. 1. 2. 2. 1.]\n",
            "<class 'list'>\n",
            "final answer =  [0.0, 0.0, 0.0, 2.0, 1.0, 1.0, 2.0, 0.0, 1.0, 2.0, 1.0, 1.0, 0.0, 1.0, 2.0, 1.0, 1.0, 1.0, 1.0, 2.0, 2.0, 2.0, 1.0, 2.0, 2.0, 1.0, 2.0, 1.0, 1.0, 1.0, 0.0, 0.0, 2.0, 0.0, 2.0, 1.0, 0.0, 2.0, 0.0, 2.0, 2.0, 1.0, 2.0, 2.0, 1.0]\n",
            "[0 0 0 2 1 1 2 0 1 2 1 1 0 1 2 1 1 1 1 2 2 2 1 2 2 1 2 1 1 1 0 0 2 0 2 1 0\n",
            " 2 0 2 2 1 2 2 1]\n",
            "Accuracy: 1.0\n"
          ]
        }
      ]
    },
    {
      "cell_type": "code",
      "execution_count": 28,
      "metadata": {
        "id": "Mrj0TvcTJWKC",
        "colab": {
          "base_uri": "https://localhost:8080/"
        },
        "outputId": "24df931f-b554-42be-aa8a-24a8e6a514ae"
      },
      "outputs": [
        {
          "output_type": "execute_result",
          "data": {
            "text/plain": [
              "0.9600000000000002"
            ]
          },
          "metadata": {},
          "execution_count": 28
        }
      ],
      "source": [
        "rf = DecisionTreeClassifier()\n",
        "\n",
        "rf.fit(X,y)\n",
        "\n",
        "cross_val_score(rf, X, y, cv = 5).mean()"
      ]
    },
    {
      "cell_type": "code",
      "execution_count": 29,
      "metadata": {
        "id": "VmF1OeRuUfQT"
      },
      "outputs": [],
      "source": [
        "def plot_accuracy(ax, prf, cluster_idx):\n",
        "    y = []\n",
        "\n",
        "    for key in prf.info:\n",
        "        if prf.info[key][\"cluster_idx\"] == cluster_idx:\n",
        "            y.append(prf.info[key][\"accuracy\"])\n",
        "    ax.set_title(\"cluster \" + str(cluster_idx))\n",
        "    ax.bar(range(len(y)), y)\n",
        "    "
      ]
    },
    {
      "cell_type": "code",
      "execution_count": 30,
      "metadata": {
        "id": "ECC8fkUvVsC6",
        "colab": {
          "base_uri": "https://localhost:8080/",
          "height": 148
        },
        "outputId": "ca5d5bfb-b0ea-4428-8cc5-d08027c68572"
      },
      "outputs": [
        {
          "output_type": "display_data",
          "data": {
            "text/plain": [
              "<Figure size 3600x360 with 10 Axes>"
            ],
            "image/png": "[encoded data removed]"
          },
          "metadata": {
            "needs_background": "light"
          }
        }
      ],
      "source": [
        "#kmeans\n",
        "f, axes = plt.subplots(1, len(prf.clusters), figsize=(len(prf.clusters) * 5,5))\n",
        "for i in range(len(prf.clusters)):\n",
        "    plot_accuracy(axes[i], prf, i)\n"
      ]
    },
    {
      "cell_type": "code",
      "execution_count": 31,
      "metadata": {
        "id": "K2pXN9K8WD6K",
        "colab": {
          "base_uri": "https://localhost:8080/",
          "height": 148
        },
        "outputId": "ec43b9bb-d39d-409d-9c8a-709cf2e3092a"
      },
      "outputs": [
        {
          "output_type": "display_data",
          "data": {
            "text/plain": [
              "<Figure size 3600x360 with 10 Axes>"
            ],
            "image/png": "[encoded data removed]"
          },
          "metadata": {
            "needs_background": "light"
          }
        }
      ],
      "source": [
        "#dbscan\n",
        "f, axes = plt.subplots(1, len(prf1.clusters), figsize=(len(prf1.clusters) * 5,5))\n",
        "for i in range(len(prf1.clusters)):\n",
        "    plot_accuracy(axes[i], prf1, i)"
      ]
    },
    {
      "cell_type": "code",
      "execution_count": 32,
      "metadata": {
        "id": "ctNEHJTjewHN",
        "colab": {
          "base_uri": "https://localhost:8080/",
          "height": 148
        },
        "outputId": "c2c98a0d-94bd-470e-feda-96a1defd7efc"
      },
      "outputs": [
        {
          "output_type": "display_data",
          "data": {
            "text/plain": [
              "<Figure size 3600x360 with 10 Axes>"
            ],
            "image/png": "[encoded data removed]"
          },
          "metadata": {
            "needs_background": "light"
          }
        }
      ],
      "source": [
        "#agglomerative\n",
        "f, axes = plt.subplots(1, len(prf2.clusters), figsize=(len(prf2.clusters) * 5,5))\n",
        "for i in range(len(prf2.clusters)):\n",
        "    plot_accuracy(axes[i], prf2, i)\n",
        "    "
      ]
    },
    {
      "cell_type": "code",
      "execution_count": 33,
      "metadata": {
        "id": "9lFSKVy3e9si",
        "colab": {
          "base_uri": "https://localhost:8080/",
          "height": 148
        },
        "outputId": "31dbf35a-1d5f-415b-b0d5-271d7ea545e7"
      },
      "outputs": [
        {
          "output_type": "display_data",
          "data": {
            "text/plain": [
              "<Figure size 3600x360 with 10 Axes>"
            ],
            "image/png": "[encoded data removed]"
          },
          "metadata": {
            "needs_background": "light"
          }
        }
      ],
      "source": [
        "#gaussian\n",
        "f, axes = plt.subplots(1, len(prf3.clusters), figsize=(len(prf3.clusters) * 5,5))\n",
        "for i in range(len(prf3.clusters)):\n",
        "    plot_accuracy(axes[i], prf3, i)"
      ]
    },
    {
      "cell_type": "code",
      "execution_count": 34,
      "metadata": {
        "id": "T7YZS7C6kJ7X",
        "colab": {
          "base_uri": "https://localhost:8080/",
          "height": 147
        },
        "outputId": "a798746a-1bfa-431e-d234-cc1ac8d4ef21"
      },
      "outputs": [
        {
          "output_type": "display_data",
          "data": {
            "text/plain": [
              "<Figure size 3600x360 with 10 Axes>"
            ],
            "image/png": "[encoded data removed]"
          },
          "metadata": {
            "needs_background": "light"
          }
        }
      ],
      "source": [
        "#spectral clusterings\n",
        "f, axes = plt.subplots(1, len(prf4.clusters), figsize=(len(prf4.clusters) * 5,5))\n",
        "for i in range(len(prf4.clusters)):\n",
        "    plot_accuracy(axes[i], prf4, i)"
      ]
    },
    {
      "cell_type": "code",
      "execution_count": 35,
      "metadata": {
        "id": "or0wJBAFfSgr",
        "colab": {
          "base_uri": "https://localhost:8080/"
        },
        "outputId": "6256a137-622a-49c3-94a9-0ae75053bc9a"
      },
      "outputs": [
        {
          "output_type": "execute_result",
          "data": {
            "text/plain": [
              "array([[1, 2],\n",
              "       [3, 4],\n",
              "       [5, 6]])"
            ]
          },
          "metadata": {},
          "execution_count": 35
        }
      ],
      "source": [
        "test = np.array([[1, 2], [3, 4], [5, 6]])\n",
        "test"
      ]
    },
    {
      "cell_type": "code",
      "source": [
        "test.shape"
      ],
      "metadata": {
        "colab": {
          "base_uri": "https://localhost:8080/"
        },
        "id": "IwbNWXHliN7y",
        "outputId": "79163830-78ee-4eef-d07e-347a27442dc4"
      },
      "execution_count": 36,
      "outputs": [
        {
          "output_type": "execute_result",
          "data": {
            "text/plain": [
              "(3, 2)"
            ]
          },
          "metadata": {},
          "execution_count": 36
        }
      ]
    },
    {
      "cell_type": "code",
      "source": [
        ""
      ],
      "metadata": {
        "id": "8UVX4qx7iRCx"
      },
      "execution_count": 36,
      "outputs": []
    }
  ],
  "metadata": {
    "colab": {
      "collapsed_sections": [],
      "name": "RFpruningIRIS",
      "provenance": [],
      "include_colab_link": true
    },
    "kernelspec": {
      "display_name": "Python 3",
      "name": "python3"
    },
    "language_info": {
      "name": "python"
    }
  },
  "nbformat": 4,
  "nbformat_minor": 0
}